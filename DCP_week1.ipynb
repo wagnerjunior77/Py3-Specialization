{
  "nbformat": 4,
  "nbformat_minor": 0,
  "metadata": {
    "colab": {
      "provenance": [],
      "authorship_tag": "ABX9TyOxthgfsCYeytbaiJCCYRwI",
      "include_colab_link": true
    },
    "kernelspec": {
      "name": "python3",
      "display_name": "Python 3"
    },
    "language_info": {
      "name": "python"
    }
  },
  "cells": [
    {
      "cell_type": "markdown",
      "metadata": {
        "id": "view-in-github",
        "colab_type": "text"
      },
      "source": [
        "<a href=\"https://colab.research.google.com/github/wagnerjunior77/Py3-Specialization/blob/Course3/DCP_week1.ipynb\" target=\"_parent\"><img src=\"https://colab.research.google.com/assets/colab-badge.svg\" alt=\"Open In Colab\"/></a>"
      ]
    },
    {
      "cell_type": "markdown",
      "source": [
        "Assessment: Nested Data and Iteration"
      ],
      "metadata": {
        "id": "oqYwP-VYhX0K"
      }
    },
    {
      "cell_type": "markdown",
      "source": [
        "The variable nested contains a nested list. Assign ‘snake’ to the variable output using indexing"
      ],
      "metadata": {
        "id": "C3JWmAlZRIyq"
      }
    },
    {
      "cell_type": "code",
      "execution_count": null,
      "metadata": {
        "id": "wuMDxDUuQvDN"
      },
      "outputs": [],
      "source": [
        "nested = [['dog', 'cat', 'horse'], ['frog', 'turtle', 'snake', 'gecko'], ['hamster', 'gerbil', 'rat', 'ferret']]\n",
        "\n",
        "output = nested[1][2]\n",
        "\n",
        "print(output)"
      ]
    },
    {
      "cell_type": "markdown",
      "source": [
        "Below, a list of lists is provided. Use in and not in tests to create variables with Boolean values. See comments for further instructions."
      ],
      "metadata": {
        "id": "kICqSYlFRMTN"
      }
    },
    {
      "cell_type": "code",
      "source": [
        "\n",
        "lst = [['apple', 'orange', 'banana'], [5, 6, 7, 8, 9.9, 10], ['green', 'yellow', 'purple', 'red']]\n",
        "\n",
        "#Test to see if 'yellow' is in the third list of lst. Save to variable ``yellow``\n",
        "yellow = \"yellow\" in lst[2] ; print(yellow)\n",
        "\n",
        "#Test to see if 4 is in the second list of lst. Save to variable ``four``\n",
        "four = 4 in lst[1] ; print(four)\n",
        "\n",
        "#Test to see if 'orange' is in the first element of lst. Save to variable ``orange``\n",
        "orange = 'orange' in lst[0] ; print(orange)\n"
      ],
      "metadata": {
        "id": "rYGwPYv8RWTo"
      },
      "execution_count": null,
      "outputs": []
    },
    {
      "cell_type": "markdown",
      "source": [
        "Below, we’ve provided a list of lists. Use in statements to create variables with Boolean values - see the ActiveCode window for further directions."
      ],
      "metadata": {
        "id": "IM1c8SlqVnkk"
      }
    },
    {
      "cell_type": "code",
      "source": [
        "\n",
        "L = [[5, 8, 7], ['hello', 'hi', 'hola'], [6.6, 1.54, 3.99], ['small', 'large']]\n",
        "\n",
        "# Test if 'hola' is in the list L. Save to variable name test1\n",
        "test1 = 'hola' in L \n",
        "print(test1)\n",
        "# Test if [5, 8, 7] is in the list L. Save to variable name test2\n",
        "test2 = [5,8,7] in L\n",
        "print(test2)\n",
        "# Test if 6.6 is in the third element of list L. Save to variable name test3\n",
        "test3 = 6.6 in L[2]\n",
        "print(test3)\n"
      ],
      "metadata": {
        "id": "3rN99ajEVpr6"
      },
      "execution_count": null,
      "outputs": []
    },
    {
      "cell_type": "markdown",
      "source": [
        "Provided is a nested data structure. Follow the instructions in the comments below. Do not hard code."
      ],
      "metadata": {
        "id": "OQXHW7pFZniz"
      }
    },
    {
      "cell_type": "code",
      "source": [
        "\n",
        "nested = {'data': ['finding', 23, ['exercises', 'hangout', 34]], 'window': ['part', 'whole', [], 'sum', ['math', 'calculus', 'algebra', 'geometry', 'statistics',['physics', 'chemistry', 'biology']]]}\n",
        "\n",
        "# Check to see if the string 'data' is a key in nested, if it is, assign True to the variable data, otherwise assign False.\n",
        "data = 'data' in nested.keys()\n",
        "print(data)\n",
        "# Check to see if the integer 24 is in the value of the key data, if it is then assign to the variable twentyfour the value of True, otherwise False.\n",
        "twentyfour = 24 in nested['data']\n",
        "print(twentyfour)\n",
        "# Check to see that the string 'whole' is not in the value of the key window. If it's not, then assign to the variable whole the value of True, otherwise False.\n",
        "whole = 'whole' not in nested['window']\n",
        "print(whole)\n",
        "# Check to see if the string 'physics' is a key in the dictionary nested. If it is, assign to the variable physics, the value of True, otherwise False.\n",
        "whole = 'physics' in nested.keys()\n",
        "print(whole)"
      ],
      "metadata": {
        "id": "dpbWP6ClZoT0"
      },
      "execution_count": null,
      "outputs": []
    },
    {
      "cell_type": "markdown",
      "source": [
        "The variable nested_d contains a nested dictionary with the gold medal counts for the top four countries in the past three Olympics. Assign the value of Great Britain’s gold medal count from the London Olympics to the variable london_gold. Use indexing. Do not hardcode."
      ],
      "metadata": {
        "id": "FYCFUacrcEJT"
      }
    },
    {
      "cell_type": "code",
      "source": [
        "\n",
        "nested_d = {'Beijing':{'China':51, 'USA':36, 'Russia':22, 'Great Britain':19}, 'London':{'USA':46, 'China':38, 'Great Britain':29, 'Russia':22}, 'Rio':{'USA':35, 'Great Britain':22, 'China':20, 'Germany':13}}\n",
        "\n",
        "london_gold = nested_d['London']['Great Britain']\n",
        "print(london_gold)"
      ],
      "metadata": {
        "id": "YzZYvh22cE0M"
      },
      "execution_count": null,
      "outputs": []
    },
    {
      "cell_type": "markdown",
      "source": [
        "Below, we have provided a nested dictionary. Index into the dictionary to create variables that we have listed in the ActiveCode window."
      ],
      "metadata": {
        "id": "3RagXzqQdfmS"
      }
    },
    {
      "cell_type": "code",
      "source": [
        "sports = {'swimming': ['butterfly', 'breaststroke', 'backstroke', 'freestyle'], 'diving': ['springboard', 'platform', 'synchronized'], 'track': ['sprint', 'distance', 'jumps', 'throws'], 'gymnastics': {'women':['vault', 'floor', 'uneven bars', 'balance beam'], 'men': ['vault', 'parallel bars', 'floor', 'rings']}}\n",
        "\n",
        "# Assign the string 'backstroke' to the name v1\n",
        "v1 = sports['swimming'][2] ; print(v1)\n",
        "# Assign the string 'platform' to the name v2\n",
        "v2 = sports['diving'][1] ; print(v2)\n",
        "# Assign the list ['vault', 'floor', 'uneven bars', 'balance beam'] to the name v3\n",
        "v3 = sports['gymnastics']['women'] ; print(v3)\n",
        "# Assign the string 'rings' to the name v4\n",
        "v4 = sports['gymnastics']['men'][3] ; print(v4)\n"
      ],
      "metadata": {
        "id": "CMHT-BbMdf8i"
      },
      "execution_count": null,
      "outputs": []
    },
    {
      "cell_type": "markdown",
      "source": [
        "Given the dictionary, nested_d, save the medal count for the USA from all three Olympics in the dictionary to the list US_count."
      ],
      "metadata": {
        "id": "iYj5K7uyfcVG"
      }
    },
    {
      "cell_type": "code",
      "source": [
        "nested_d = {'Beijing':{'China':51, 'USA':36, 'Russia':22, 'Great Britain':19}, 'London':{'USA':46, 'China':38, 'Great Britain':29, 'Russia':22}, 'Rio':{'USA':35, 'Great Britain':22, 'China':20, 'Germany':13}}\n",
        "\n",
        "US_count = []\n",
        "\n",
        "for x in nested_d.keys():\n",
        "  US_count.append(nested_d[x]['USA'])\n",
        "\n",
        "print(US_count)"
      ],
      "metadata": {
        "id": "2l_X-G6IfmPV"
      },
      "execution_count": null,
      "outputs": []
    },
    {
      "cell_type": "markdown",
      "source": [
        "Iterate through the contents of l_of_l and assign the third element of sublist to a new list called third."
      ],
      "metadata": {
        "id": "GoYldfbmgHBd"
      }
    },
    {
      "cell_type": "code",
      "source": [
        "\n",
        "l_of_l = [['purple', 'mauve', 'blue'], ['red', 'maroon', 'blood orange', 'crimson'], ['sea green', 'cornflower', 'lavender', 'indigo'], ['yellow', 'amarillo', 'mac n cheese', 'golden rod']]\n",
        "\n",
        "third = []\n",
        "\n",
        "for x in l_of_l:\n",
        "  third.append(x[2])\n",
        "\n",
        "print(third)"
      ],
      "metadata": {
        "id": "-SBbxxOogI29"
      },
      "execution_count": null,
      "outputs": []
    },
    {
      "cell_type": "markdown",
      "source": [
        "Given below is a list of lists of athletes. Create a list, t, that saves only the athlete’s name if it contains the letter “t”. If it does not contain the letter “t”, save the athlete name into list other."
      ],
      "metadata": {
        "id": "Z8O87Bsrgi4u"
      }
    },
    {
      "cell_type": "code",
      "source": [
        "\n",
        "athletes = [['Phelps', 'Lochte', 'Schooling', 'Ledecky', 'Franklin'], ['Felix', 'Bolt', 'Gardner', 'Eaton'], ['Biles', 'Douglas', 'Hamm', 'Raisman', 'Mikulak', 'Dalton']]\n",
        "\n",
        "t = []\n",
        "other = []\n",
        "\n",
        "for x in athletes:\n",
        "  for y in x:\n",
        "    if \"t\" in y:\n",
        "      t.append(y)\n",
        "    else:\n",
        "      other.append(y)\n",
        "\n",
        "print(t)\n",
        "print(other)"
      ],
      "metadata": {
        "id": "pZpWM5cSgjXG"
      },
      "execution_count": null,
      "outputs": []
    }
  ]
}