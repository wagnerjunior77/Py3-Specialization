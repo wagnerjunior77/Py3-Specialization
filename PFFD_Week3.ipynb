{
  "nbformat": 4,
  "nbformat_minor": 0,
  "metadata": {
    "colab": {
      "provenance": [],
      "authorship_tag": "ABX9TyN27C8YojSTSCPDpLI19Hdi",
      "include_colab_link": true
    },
    "kernelspec": {
      "name": "python3",
      "display_name": "Python 3"
    },
    "language_info": {
      "name": "python"
    }
  },
  "cells": [
    {
      "cell_type": "markdown",
      "metadata": {
        "id": "view-in-github",
        "colab_type": "text"
      },
      "source": [
        "<a href=\"https://colab.research.google.com/github/wagnerjunior77/Py3-Specialization/blob/Course2/PFFD_Week3.ipynb\" target=\"_parent\"><img src=\"https://colab.research.google.com/assets/colab-badge.svg\" alt=\"Open In Colab\"/></a>"
      ]
    },
    {
      "cell_type": "markdown",
      "source": [
        "Assessment: Functions"
      ],
      "metadata": {
        "id": "VblObXqYFR_f"
      }
    },
    {
      "cell_type": "markdown",
      "source": [
        "Write a function called int_return that takes an integer as input and returns the same integer."
      ],
      "metadata": {
        "id": "4Wqp3c_7FVvX"
      }
    },
    {
      "cell_type": "code",
      "execution_count": null,
      "metadata": {
        "id": "G6NZbV23FKG2"
      },
      "outputs": [],
      "source": [
        "def int_return(x):\n",
        "    return x\n",
        "\n",
        "int_return(2)"
      ]
    },
    {
      "cell_type": "markdown",
      "source": [
        "Write a function called add that takes any number as its input and returns that sum with 2 added."
      ],
      "metadata": {
        "id": "-RpQ8-46FZqP"
      }
    },
    {
      "cell_type": "code",
      "source": [
        "def add(x):\n",
        "    return x+2\n",
        "\n",
        "add(3)"
      ],
      "metadata": {
        "id": "cTJDuNbwFbaC"
      },
      "execution_count": null,
      "outputs": []
    },
    {
      "cell_type": "markdown",
      "source": [
        "Write a function called change that takes any string, adds “Nice to meet you!” to the end of the argument given, and returns that new string."
      ],
      "metadata": {
        "id": "vWRek5wIFcwN"
      }
    },
    {
      "cell_type": "code",
      "source": [
        "def change(x):\n",
        "    return x + \"Nice to meet you!\"\n",
        "\n",
        "change(\"Hi, \")"
      ],
      "metadata": {
        "id": "Rxd6_HpdFewM"
      },
      "execution_count": null,
      "outputs": []
    },
    {
      "cell_type": "markdown",
      "source": [
        "Write a function, accum, that takes a list of integers as input and returns the sum of those integers."
      ],
      "metadata": {
        "id": "ezvosHwZFf8i"
      }
    },
    {
      "cell_type": "code",
      "source": [
        "def accum(x):\n",
        "    return sum(x)\n",
        "accum([1,2,3])"
      ],
      "metadata": {
        "id": "ThMseZqBFho0"
      },
      "execution_count": null,
      "outputs": []
    },
    {
      "cell_type": "markdown",
      "source": [
        "Write a function, length, that takes in a list as the input. If the length of the list is greater than or equal to 5, return “Longer than 5”. If the length is less than 5, return “Less than 5”."
      ],
      "metadata": {
        "id": "F9-dOQUaFi_8"
      }
    },
    {
      "cell_type": "code",
      "source": [
        "def length(x):\n",
        "    if len(x) >= 5:\n",
        "        return \"Longer than 5\"\n",
        "    else:\n",
        "        return \"Less than 5\"\n",
        "\n",
        "length(\"Maior que 5\")"
      ],
      "metadata": {
        "id": "bX0PdEInFkfR"
      },
      "execution_count": null,
      "outputs": []
    },
    {
      "cell_type": "markdown",
      "source": [
        "You will need to write two functions for this problem. The first function, divide that takes in any number and returns that same number divided by 2. The second function called sum should take any number, divide it by 2, and add 6. It should return this new number. You should call the divide function within the sum function. Do not worry about decimals."
      ],
      "metadata": {
        "id": "b1ojLDnnFls2"
      }
    },
    {
      "cell_type": "code",
      "source": [
        "def divide(x):\n",
        "    return x/2\n",
        "\n",
        "def sum(y):\n",
        "    return (y/2)+6\n",
        "\n",
        "print(divide(5))\n",
        "print(sum(5))"
      ],
      "metadata": {
        "id": "YoUhgN9hFnSM"
      },
      "execution_count": null,
      "outputs": []
    }
  ]
}