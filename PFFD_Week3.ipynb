{
  "nbformat": 4,
  "nbformat_minor": 0,
  "metadata": {
    "colab": {
      "provenance": [],
      "authorship_tag": "ABX9TyOd+oFEznA9/1575vYh8Q9B",
      "include_colab_link": true
    },
    "kernelspec": {
      "name": "python3",
      "display_name": "Python 3"
    },
    "language_info": {
      "name": "python"
    }
  },
  "cells": [
    {
      "cell_type": "markdown",
      "metadata": {
        "id": "view-in-github",
        "colab_type": "text"
      },
      "source": [
        "<a href=\"https://colab.research.google.com/github/wagnerjunior77/Py3-Specialization/blob/Course2/PFFD_Week3.ipynb\" target=\"_parent\"><img src=\"https://colab.research.google.com/assets/colab-badge.svg\" alt=\"Open In Colab\"/></a>"
      ]
    },
    {
      "cell_type": "markdown",
      "source": [
        "Assessment: Functions"
      ],
      "metadata": {
        "id": "VblObXqYFR_f"
      }
    },
    {
      "cell_type": "markdown",
      "source": [
        "Write a function called int_return that takes an integer as input and returns the same integer."
      ],
      "metadata": {
        "id": "4Wqp3c_7FVvX"
      }
    },
    {
      "cell_type": "code",
      "execution_count": null,
      "metadata": {
        "id": "G6NZbV23FKG2"
      },
      "outputs": [],
      "source": [
        "def int_return(x):\n",
        "    return x\n",
        "\n",
        "int_return(2)"
      ]
    },
    {
      "cell_type": "markdown",
      "source": [
        "Write a function called add that takes any number as its input and returns that sum with 2 added."
      ],
      "metadata": {
        "id": "-RpQ8-46FZqP"
      }
    },
    {
      "cell_type": "code",
      "source": [
        "def add(x):\n",
        "    return x+2\n",
        "\n",
        "add(3)"
      ],
      "metadata": {
        "id": "cTJDuNbwFbaC"
      },
      "execution_count": null,
      "outputs": []
    },
    {
      "cell_type": "markdown",
      "source": [
        "Write a function called change that takes any string, adds “Nice to meet you!” to the end of the argument given, and returns that new string."
      ],
      "metadata": {
        "id": "vWRek5wIFcwN"
      }
    },
    {
      "cell_type": "code",
      "source": [
        "def change(x):\n",
        "    return x + \"Nice to meet you!\"\n",
        "\n",
        "change(\"Hi, \")"
      ],
      "metadata": {
        "id": "Rxd6_HpdFewM"
      },
      "execution_count": null,
      "outputs": []
    },
    {
      "cell_type": "markdown",
      "source": [
        "Write a function, accum, that takes a list of integers as input and returns the sum of those integers."
      ],
      "metadata": {
        "id": "ezvosHwZFf8i"
      }
    },
    {
      "cell_type": "code",
      "source": [
        "def accum(x):\n",
        "    return sum(x)\n",
        "accum([1,2,3])"
      ],
      "metadata": {
        "id": "ThMseZqBFho0"
      },
      "execution_count": null,
      "outputs": []
    },
    {
      "cell_type": "markdown",
      "source": [
        "Write a function, length, that takes in a list as the input. If the length of the list is greater than or equal to 5, return “Longer than 5”. If the length is less than 5, return “Less than 5”."
      ],
      "metadata": {
        "id": "F9-dOQUaFi_8"
      }
    },
    {
      "cell_type": "code",
      "source": [
        "def length(x):\n",
        "    if len(x) >= 5:\n",
        "        return \"Longer than 5\"\n",
        "    else:\n",
        "        return \"Less than 5\"\n",
        "\n",
        "length(\"Maior que 5\")"
      ],
      "metadata": {
        "id": "bX0PdEInFkfR"
      },
      "execution_count": null,
      "outputs": []
    },
    {
      "cell_type": "markdown",
      "source": [
        "You will need to write two functions for this problem. The first function, divide that takes in any number and returns that same number divided by 2. The second function called sum should take any number, divide it by 2, and add 6. It should return this new number. You should call the divide function within the sum function. Do not worry about decimals."
      ],
      "metadata": {
        "id": "b1ojLDnnFls2"
      }
    },
    {
      "cell_type": "code",
      "source": [
        "def divide(x):\n",
        "    return x/2\n",
        "\n",
        "def sum(y):\n",
        "    return (y/2)+6\n",
        "\n",
        "print(divide(5))\n",
        "print(sum(5))"
      ],
      "metadata": {
        "id": "YoUhgN9hFnSM"
      },
      "execution_count": null,
      "outputs": []
    },
    {
      "cell_type": "markdown",
      "source": [
        "Assessment: Tuples"
      ],
      "metadata": {
        "id": "nkoqAo1YiS6b"
      }
    },
    {
      "cell_type": "markdown",
      "source": [
        "Create a tuple called olympics with four elements: “Beijing”, “London”, “Rio”, “Tokyo”."
      ],
      "metadata": {
        "id": "aJKVciKpiXJU"
      }
    },
    {
      "cell_type": "code",
      "source": [
        "olympics = (\"Beijing\", \"London\", \"Rio\", \"Tokyo\")"
      ],
      "metadata": {
        "id": "b0tRzOXtiVLz"
      },
      "execution_count": null,
      "outputs": []
    },
    {
      "cell_type": "markdown",
      "source": [
        "The list below, tuples_lst, is a list of tuples. Create a list of the second elements of each tuple and assign this list to the variable country."
      ],
      "metadata": {
        "id": "0-hRubrBiY2S"
      }
    },
    {
      "cell_type": "code",
      "source": [
        "\n",
        "tuples_lst = [('Beijing', 'China', 2008), ('London', 'England', 2012), ('Rio', 'Brazil', 2016, 'Current'), ('Tokyo', 'Japan', 2020, 'Future')]\n",
        "\n",
        "country = []\n",
        "\n",
        "for x in tuples_lst:\n",
        "    country.append(x[1])"
      ],
      "metadata": {
        "id": "mp2KDP5WiaY7"
      },
      "execution_count": null,
      "outputs": []
    },
    {
      "cell_type": "markdown",
      "source": [
        "With only one line of code, assign the variables city, country, and year to the values of the tuple olymp"
      ],
      "metadata": {
        "id": "HeSgKAjGicDi"
      }
    },
    {
      "cell_type": "code",
      "source": [
        "olymp = ('Rio', 'Brazil', 2016)\n",
        "\n",
        "city, country, year = olymp"
      ],
      "metadata": {
        "id": "ztoHBpNBibsc"
      },
      "execution_count": null,
      "outputs": []
    },
    {
      "cell_type": "markdown",
      "source": [
        "Define a function called info with five parameters: name, gender, age, bday_month, and hometown. The function should then return a tuple with all five parameters in that order."
      ],
      "metadata": {
        "id": "rNgHwMzBigC7"
      }
    },
    {
      "cell_type": "code",
      "source": [
        "def info(name, gender, age, bday_month, hometown):\n",
        "    return (name, gender, age, bday_month, hometown)"
      ],
      "metadata": {
        "id": "qj4Bb-5Pihaz"
      },
      "execution_count": null,
      "outputs": []
    },
    {
      "cell_type": "markdown",
      "source": [
        "Given is the dictionary, gold, which shows the country and the number of gold medals they have earned so far in the 2016 Olympics. Create a list, num_medals, that contains only the number of medals for each country. You must use the .items() method. Note: The .items() method provides a list of tuples. Do not use .keys() method."
      ],
      "metadata": {
        "id": "cdmSHCIdii1n"
      }
    },
    {
      "cell_type": "code",
      "source": [
        "\n",
        "gold = {'USA':31, 'Great Britain':19, 'China':19, 'Germany':13, 'Russia':12, 'Japan':10, 'France':8, 'Italy':8}\n",
        "\n",
        "num_medals = []\n",
        "\n",
        "for k, v in gold.items():\n",
        "    num_medals.append(v)\n",
        "  \n",
        "print(num_medals)"
      ],
      "metadata": {
        "id": "o0DIAfjkikVg"
      },
      "execution_count": null,
      "outputs": []
    }
  ]
}