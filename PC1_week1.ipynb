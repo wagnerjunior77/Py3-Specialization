{
  "nbformat": 4,
  "nbformat_minor": 0,
  "metadata": {
    "colab": {
      "provenance": [],
      "authorship_tag": "ABX9TyNdJ4X+u2mYRkxYkauo1PNh",
      "include_colab_link": true
    },
    "kernelspec": {
      "name": "python3",
      "display_name": "Python 3"
    },
    "language_info": {
      "name": "python"
    }
  },
  "cells": [
    {
      "cell_type": "markdown",
      "metadata": {
        "id": "view-in-github",
        "colab_type": "text"
      },
      "source": [
        "<a href=\"https://colab.research.google.com/github/wagnerjunior77/Py3-Specialization/blob/Course4/PC1_week1.ipynb\" target=\"_parent\"><img src=\"https://colab.research.google.com/assets/colab-badge.svg\" alt=\"Open In Colab\"/></a>"
      ]
    },
    {
      "cell_type": "markdown",
      "source": [
        "------- Course 4: Assessment 1 -------"
      ],
      "metadata": {
        "id": "Cbk4dFdj7ILG"
      }
    },
    {
      "cell_type": "markdown",
      "source": [
        "Define a class called Bike that accepts a string and a float as input, and assigns those inputs respectively to two instance variables, color and price. Assign to the variable testOne an instance of Bike whose color is blue and whose price is 89.99. Assign to the variable testTwo an instance of Bike whose color is purple and whose price is 25.0."
      ],
      "metadata": {
        "id": "41sW-7hB66-b"
      }
    },
    {
      "cell_type": "code",
      "source": [
        "class Bike():\n",
        "    def __init__(self, string, float_num):\n",
        "        self.color = string\n",
        "        self.price = float_num\n",
        "\n",
        "testOne = Bike(\"blue\", 89.99)\n",
        "testTwo = Bike(\"purple\", 25.0)"
      ],
      "metadata": {
        "id": "XHLkWemS67tv"
      },
      "execution_count": null,
      "outputs": []
    },
    {
      "cell_type": "markdown",
      "source": [
        "Create a class called AppleBasket whose constructor accepts two inputs: a string representing a color, and a number representing a quantity of apples. The constructor should initialize two instance variables: apple_color and apple_quantity. Write a class method called increase that increases the quantity by 1 each time it is invoked. You should also write a __str__ method for this class that returns a string of the format: \"A basket of [quantity goes here] [color goes here] apples.\" e.g. \"A basket of 4 red apples.\" or \"A basket of 50 blue apples.\" (Writing some test code that creates instances and assigns values to variables may help you solve this problem!)"
      ],
      "metadata": {
        "id": "EooAhraQ3xSn"
      }
    },
    {
      "cell_type": "code",
      "execution_count": 10,
      "metadata": {
        "colab": {
          "base_uri": "https://localhost:8080/"
        },
        "id": "gwgX0yVY3rkc",
        "outputId": "5bf23225-aec7-43ec-dd52-5c50dda1cf7d"
      },
      "outputs": [
        {
          "output_type": "stream",
          "name": "stdout",
          "text": [
            "A basket of 4 red apples.\n",
            "A basket of 5 red apples.\n"
          ]
        }
      ],
      "source": [
        "class AppleBasket():\n",
        "    def __init__(self, color, quantity):\n",
        "        self.apple_color = color\n",
        "        self.apple_quantity = quantity\n",
        "    def increase(self):\n",
        "        self.apple_quantity += 1\n",
        "        return self.apple_quantity\n",
        "    def __str__(self):\n",
        "        return f\"A basket of {self.apple_quantity} {self.apple_color} apples.\"\n",
        "\n",
        "apple1 = AppleBasket(\"red\", 4)\n",
        "\n",
        "print(apple1)\n",
        "\n",
        "apple1.increase()\n",
        "\n",
        "print(apple1)"
      ]
    },
    {
      "cell_type": "markdown",
      "source": [
        "Define a class called BankAccount that accepts the name you want associated with your bank account in a string, and an integer that represents the amount of money in the account. The constructor should initialize two instance variables from those inputs: name and amt. Add a string method so that when you print an instance of BankAccount, you see \"Your account, [name goes here], has [start_amt goes here] dollars.\" Create an instance of this class with \"Bob\" as the name and 100 as the amount. Save this to the variable t1."
      ],
      "metadata": {
        "id": "KElAqYtX5zcY"
      }
    },
    {
      "cell_type": "code",
      "source": [
        "class BankAccount():\n",
        "  def __init__(self, name, money):\n",
        "    self.name = name\n",
        "    self.amt = money\n",
        "  def __str__(self):\n",
        "    return f\"Your account, {self.name}, has {self.amt} dollars.\"\n",
        "\n",
        "t1 = BankAccount(\"Bob\", 100)\n",
        "\n",
        "print(t1)"
      ],
      "metadata": {
        "colab": {
          "base_uri": "https://localhost:8080/"
        },
        "id": "ANvR-qTr51DB",
        "outputId": "0a5911df-fb5d-43cb-bfe5-41bed5bce160"
      },
      "execution_count": 12,
      "outputs": [
        {
          "output_type": "stream",
          "name": "stdout",
          "text": [
            "Your account, Bob, has 100 dollars.\n"
          ]
        }
      ]
    }
  ]
}