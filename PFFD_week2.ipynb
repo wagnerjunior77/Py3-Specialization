{
  "nbformat": 4,
  "nbformat_minor": 0,
  "metadata": {
    "colab": {
      "provenance": [],
      "authorship_tag": "ABX9TyPzIFS0skqa7wQvBgfmXefx",
      "include_colab_link": true
    },
    "kernelspec": {
      "name": "python3",
      "display_name": "Python 3"
    },
    "language_info": {
      "name": "python"
    }
  },
  "cells": [
    {
      "cell_type": "markdown",
      "metadata": {
        "id": "view-in-github",
        "colab_type": "text"
      },
      "source": [
        "<a href=\"https://colab.research.google.com/github/wagnerjunior77/Py3-Specialization/blob/Course2/PFFD_week2.ipynb\" target=\"_parent\"><img src=\"https://colab.research.google.com/assets/colab-badge.svg\" alt=\"Open In Colab\"/></a>"
      ]
    },
    {
      "cell_type": "markdown",
      "source": [
        "Assessment: Dictionary Accumulation"
      ],
      "metadata": {
        "id": "clVPgL0It457"
      }
    },
    {
      "cell_type": "markdown",
      "source": [
        "The dictionary Junior shows a schedule for a junior year semester. The key is the course name and the value is the number of credits. Find the total number of credits taken this semester and assign it to the variable credits. Do not hardcode this – use dictionary accumulation!"
      ],
      "metadata": {
        "id": "Xg79-yvDt8uS"
      }
    },
    {
      "cell_type": "code",
      "source": [
        "Junior = {'SI 206':4, 'SI 310':4, 'BL 300':3, 'TO 313':3, 'BCOM 350':1, 'MO 300':3}\n",
        "\n",
        "credits = 0\n",
        "\n",
        "for k,v in Junior.items():\n",
        "    credits += v\n",
        "\n",
        "print(credits)"
      ],
      "metadata": {
        "id": "8l1df4vHt8Q4"
      },
      "execution_count": null,
      "outputs": []
    },
    {
      "cell_type": "markdown",
      "source": [
        "Create a dictionary, freq, that displays each character in string str1 as the key and its frequency as the value."
      ],
      "metadata": {
        "id": "swGVI0ng6Lo9"
      }
    },
    {
      "cell_type": "code",
      "source": [
        "str1 = \"peter piper picked a peck of pickled peppers\"\n",
        "freq = {}\n",
        "\n",
        "for x in str1:\n",
        "    if x not in freq:\n",
        "        freq[x] = 0\n",
        "    freq[x] += 1\n",
        "\n",
        "print(freq)"
      ],
      "metadata": {
        "id": "pT7kwysM6Np4"
      },
      "execution_count": null,
      "outputs": []
    },
    {
      "cell_type": "markdown",
      "source": [
        "Provided is a string saved to the variable name s1. Create a dictionary named counts that contains each letter in s1 and the number of times it occurs."
      ],
      "metadata": {
        "id": "wAAbnF6I6PSa"
      }
    },
    {
      "cell_type": "code",
      "source": [
        "s1 = \"hello\"\n",
        "\n",
        "counts = {}\n",
        "\n",
        "for x in s1:\n",
        "    if x not in counts:\n",
        "        counts[x] = 0\n",
        "    counts[x] += 1\n",
        "\n",
        "print(counts)"
      ],
      "metadata": {
        "id": "9leCc77g6RKU"
      },
      "execution_count": null,
      "outputs": []
    },
    {
      "cell_type": "markdown",
      "source": [
        "Create a dictionary, freq_words, that contains each word in string str1 as the key and its frequency as the value."
      ],
      "metadata": {
        "id": "MOt6VfW16TWz"
      }
    },
    {
      "cell_type": "code",
      "source": [
        "str1 = \"I wish I wish with all my heart to fly with dragons in a land apart\"\n",
        "words = str1.split()\n",
        "\n",
        "freq_words = {}\n",
        "\n",
        "for x in words:\n",
        "    if x not in freq_words:\n",
        "        freq_words[x] = 0\n",
        "    freq_words[x] += 1\n",
        "\n",
        "print(freq_words)"
      ],
      "metadata": {
        "id": "c2CwbLXb6WfZ"
      },
      "execution_count": null,
      "outputs": []
    },
    {
      "cell_type": "markdown",
      "source": [
        "Create a dictionary called wrd_d from the string sent, so that the key is a word and the value is how many times you have seen that word."
      ],
      "metadata": {
        "id": "IUqZZN3S6YJB"
      }
    },
    {
      "cell_type": "code",
      "source": [
        "sent = \"Singing in the rain and playing in the rain are two entirely different situations but both can be good\"\n",
        "words = sent.split()\n",
        "\n",
        "wrd_d = {}\n",
        "\n",
        "for x in words:\n",
        "    if x not in wrd_d:\n",
        "        wrd_d[x] = 0\n",
        "    wrd_d[x] += 1\n",
        "    \n",
        "print(wrd_d)"
      ],
      "metadata": {
        "id": "3DWxe0fS6aGE"
      },
      "execution_count": null,
      "outputs": []
    },
    {
      "cell_type": "markdown",
      "source": [
        "Create the dictionary characters that shows each character from the string sally and its frequency. Then, find the most frequent letter based on the dictionary. Assign this letter to the variable best_char."
      ],
      "metadata": {
        "id": "YG7Y2VbM6bdD"
      }
    },
    {
      "cell_type": "code",
      "source": [
        "sally = \"sally sells sea shells by the sea shore\"\n",
        "characters = {}\n",
        "\n",
        "\n",
        "for x in sally:\n",
        "    if x not in characters:\n",
        "        characters[x] = 0\n",
        "    characters[x] += 1\n",
        "\n",
        "keys = list(characters.keys())\n",
        "best_char = keys[0]\n",
        "\n",
        "for y in keys:\n",
        "    if characters[y] > characters[best_char]:\n",
        "        best_char = y"
      ],
      "metadata": {
        "id": "PcekSRli6eFL"
      },
      "execution_count": null,
      "outputs": []
    },
    {
      "cell_type": "markdown",
      "source": [
        "Find the least frequent letter. Create the dictionary characters that shows each character from string sally and its frequency. Then, find the least frequent letter in the string and assign the letter to the variable worst_char."
      ],
      "metadata": {
        "id": "KvPn3MwD6f-E"
      }
    },
    {
      "cell_type": "code",
      "source": [
        "sally = \"sally sells sea shells by the sea shore and by the road\"\n",
        "\n",
        "characters = {}\n",
        "\n",
        "for x in sally:\n",
        "    if x not in characters:\n",
        "        characters[x] = 0\n",
        "    characters[x] += 1\n",
        "\n",
        "keys = list(characters.keys())\n",
        "worst_char = keys[0]\n",
        "\n",
        "for y in keys:\n",
        "    if characters[y] < characters[worst_char]:\n",
        "        worst_char = y"
      ],
      "metadata": {
        "id": "VxRDFL_Y6hpR"
      },
      "execution_count": null,
      "outputs": []
    },
    {
      "cell_type": "markdown",
      "source": [
        "Create a dictionary named letter_counts that contains each letter and the number of times it occurs in string1. Challenge: Letters should not be counted separately as upper-case and lower-case. Intead, all of them should be counted as lower-case."
      ],
      "metadata": {
        "id": "tEj_0hOa6kjo"
      }
    },
    {
      "cell_type": "code",
      "source": [
        "string1 = \"There is a tide in the affairs of men, Which taken at the flood, leads on to fortune. Omitted, all the voyage of their life is bound in shallows and in miseries. On such a full sea are we now afloat. And we must take the current when it serves, or lose our ventures.\"\n",
        "string1 = string1.lower()\n",
        "\n",
        "letter_counts = {}\n",
        "\n",
        "for x in string1:\n",
        "    if x not in letter_counts:\n",
        "        letter_counts[x] = 0\n",
        "    letter_counts[x] += 1\n",
        "\n",
        "print(letter_counts)"
      ],
      "metadata": {
        "id": "roQK5EKb6mj0"
      },
      "execution_count": null,
      "outputs": []
    },
    {
      "cell_type": "markdown",
      "source": [
        "Create a dictionary called low_d that keeps track of all the characters in the string p and notes how many times each character was seen. Make sure that there are no repeats of characters as keys, such that “T” and “t” are both seen as a “t” for example."
      ],
      "metadata": {
        "id": "5tC799e06pQf"
      }
    },
    {
      "cell_type": "code",
      "source": [
        "p = \"Summer is a great time to go outside. You have to be careful of the sun though because of the heat.\"\n",
        "p = p.lower()\n",
        "\n",
        "low_d = {}\n",
        "\n",
        "for x in p:\n",
        "    if x not in low_d:\n",
        "        low_d[x] = 0\n",
        "    low_d[x] += 1\n",
        "\n",
        "print(low_d)"
      ],
      "metadata": {
        "id": "rFVtMShe6sEH"
      },
      "execution_count": null,
      "outputs": []
    }
  ]
}