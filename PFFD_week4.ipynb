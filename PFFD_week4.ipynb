{
  "nbformat": 4,
  "nbformat_minor": 0,
  "metadata": {
    "colab": {
      "provenance": [],
      "collapsed_sections": [],
      "authorship_tag": "ABX9TyMsNzeGqEg82rtVrGzlBRMt",
      "include_colab_link": true
    },
    "kernelspec": {
      "name": "python3",
      "display_name": "Python 3"
    },
    "language_info": {
      "name": "python"
    }
  },
  "cells": [
    {
      "cell_type": "markdown",
      "metadata": {
        "id": "view-in-github",
        "colab_type": "text"
      },
      "source": [
        "<a href=\"https://colab.research.google.com/github/wagnerjunior77/Py3-Specialization/blob/Course2/PFFD_week4.ipynb\" target=\"_parent\"><img src=\"https://colab.research.google.com/assets/colab-badge.svg\" alt=\"Open In Colab\"/></a>"
      ]
    },
    {
      "cell_type": "markdown",
      "source": [
        "Assessment: More about iteration"
      ],
      "metadata": {
        "id": "r2u2XOHfN_tu"
      }
    },
    {
      "cell_type": "markdown",
      "source": [
        "Write a function, sublist, that takes in a list of numbers as the parameter. In the function, use a while loop to return a sublist of the input list. The sublist should contain the same values of the original list up until it reaches the number 5 (it should not contain the number 5)."
      ],
      "metadata": {
        "id": "Rv48Ndv8M_Kr"
      }
    },
    {
      "cell_type": "code",
      "execution_count": null,
      "metadata": {
        "id": "X4Gc9r-F6TR7"
      },
      "outputs": [],
      "source": [
        "lista = []\n",
        "\n",
        "def sublist(numbers):\n",
        "    \n",
        "    for x in numbers:\n",
        "      if x == 5:\n",
        "          break\n",
        "      while x != 5:\n",
        "        lista.append(x)\n",
        "        \n",
        "        break\n",
        "      \n",
        "    return lista\n",
        "      \n",
        "sublist([1, 6, 2, 3, 9])      \n",
        "      \n",
        "\n"
      ]
    },
    {
      "cell_type": "markdown",
      "source": [
        "Write a function called check_nums that takes a list as its parameter, and contains a while loop that only stops once the element of the list is the number 7. What is returned is a list of all of the numbers up until it reaches 7."
      ],
      "metadata": {
        "id": "Wyc3Dv_sNEMf"
      }
    },
    {
      "cell_type": "code",
      "source": [
        "lista = []\n",
        "\n",
        "def check_nums(numbers):\n",
        "    lista = []\n",
        "    for x in numbers:\n",
        "      if x == 7:\n",
        "          break\n",
        "      while x != 7:\n",
        "        lista.append(x)\n",
        "        \n",
        "        break\n",
        "      \n",
        "    return lista"
      ],
      "metadata": {
        "id": "RyfZCkyjCEKE"
      },
      "execution_count": null,
      "outputs": []
    },
    {
      "cell_type": "markdown",
      "source": [
        "Write a function, sublist, that takes in a list of strings as the parameter. In the function, use a while loop to return a sublist of the input list. The sublist should contain the same values of the original list up until it reaches the string “STOP” (it should not contain the string “STOP”)."
      ],
      "metadata": {
        "id": "trMyb_GNNF8o"
      }
    },
    {
      "cell_type": "code",
      "source": [
        "\n",
        "lista = []\n",
        "def sublist(string):\n",
        "    lista = []\n",
        "    for x in string:\n",
        "      if x == \"STOP\":\n",
        "          break\n",
        "      while x != \"STOP\":\n",
        "        lista.append(x)\n",
        "        \n",
        "        break\n",
        "      \n",
        "    return lista\n"
      ],
      "metadata": {
        "id": "8YhLZMwDHk6U"
      },
      "execution_count": null,
      "outputs": []
    },
    {
      "cell_type": "markdown",
      "source": [
        "Write a function called stop_at_z that iterates through a list of strings. Using a while loop, append each string to a new list until the string that appears is “z”. The function should return the new list."
      ],
      "metadata": {
        "id": "U9ZKjpqINe-4"
      }
    },
    {
      "cell_type": "code",
      "source": [
        "\n",
        "def stop_at_z(string):\n",
        "    lista = []\n",
        "    for x in string:\n",
        "      if x == \"z\":\n",
        "          break\n",
        "      while x != \"z\":\n",
        "        lista.append(x)\n",
        "        \n",
        "        break\n",
        "      \n",
        "    return lista"
      ],
      "metadata": {
        "id": "8rVnGznqNgm-"
      },
      "execution_count": null,
      "outputs": []
    },
    {
      "cell_type": "markdown",
      "source": [
        "Below is a for loop that works. Underneath the for loop, rewrite the problem so that it does the same thing, but using a while loop instead of a for loop. Assign the accumulated total in the while loop code to the variable sum2. Once complete, sum2 should equal sum1."
      ],
      "metadata": {
        "id": "yhQiPvJ5Nh9K"
      }
    },
    {
      "cell_type": "code",
      "source": [
        "\n",
        "sum1 = 0\n",
        "sum2 = 0\n",
        "\n",
        "lst = [65, 78, 21, 33]\n",
        "print(sum(lst))\n",
        "\n",
        "\n",
        "for x in lst:\n",
        "    sum1 = sum1 + x\n",
        "    \n",
        "\n",
        "c = 0\n",
        "while c != len(lst):\n",
        "  sum2 = sum2 + lst[c]\n",
        "  c += 1\n",
        "\n",
        "print(sum2)\n",
        "\n"
      ],
      "metadata": {
        "id": "g43fcHs_Nj8w"
      },
      "execution_count": null,
      "outputs": []
    },
    {
      "cell_type": "markdown",
      "source": [
        "Challenge: Write a function called beginning that takes a list as input and contains a while loop that only stops once the element of the list is the string ‘bye’. What is returned is a list that contains up to the first 10 strings, regardless of where the loop stops. (i.e., if it stops on the 32nd element, the first 10 are returned. If “bye” is the 5th element, the first 4 are returned.) If you want to make this even more of a challenge, do this without slicing"
      ],
      "metadata": {
        "id": "HHkIsMkLNlRy"
      }
    },
    {
      "cell_type": "code",
      "source": [
        "#without slicing string\n",
        "def beginning(array):\n",
        "    lista = []\n",
        "    c = 0\n",
        "    while True:\n",
        "      for x in array:\n",
        "        \n",
        "          while c < 10 and \"bye\" not in lista:\n",
        "            \n",
        "            if array[c] == \"bye\":\n",
        "                break\n",
        "            while array[c] != \"bye\":\n",
        "              lista.append(array[c])\n",
        "              c+=1\n",
        "              break\n",
        "      \n",
        "      return lista\n",
        "\n",
        "beginning([1,2,3,4,5,6,7,8,9,10,\"bye\"])\n",
        "\n",
        "\n",
        "#with slicing (easy method)\n",
        "def beginning2(array):\n",
        "    lista = []\n",
        "    for x in array:\n",
        "      \n",
        "      if x == \"bye\":\n",
        "          break\n",
        "      while x != \"bye\":\n",
        "        lista.append(x)\n",
        "        \n",
        "        break\n",
        "    if len(lista) >= 10 or \"bye\" not in lista:\n",
        "      lista = lista[:10]\n",
        "    return lista"
      ],
      "metadata": {
        "id": "EHpaAycdNngD"
      },
      "execution_count": null,
      "outputs": []
    },
    {
      "cell_type": "markdown",
      "source": [
        "Assessment: Advanced Functions"
      ],
      "metadata": {
        "id": "UuRMm-G9-SrC"
      }
    },
    {
      "cell_type": "markdown",
      "source": [
        "Write a function, test, that takes in three parameters: a required integer, an optional boolean whose default value is True, and an optional dictionary, called dict1, whose default value is {2:3, 4:5, 6:8}. If the boolean parameter is True, the function should test to see if the integer is a key in the dictionary. The value of that key should then be returned. If the boolean parameter is False, return the boolean value “False”."
      ],
      "metadata": {
        "id": "JA3n0QRx-WkG"
      }
    },
    {
      "cell_type": "code",
      "source": [
        "def test (num1, bl = True, dict1 = {2:3, 4:5, 6:8}):\n",
        "    if bl == True:\n",
        "        if num1 in dict1.keys():\n",
        "            return dict1.get(num1)\n",
        "    if bl == False or num1 not in dict1.keys():\n",
        "        print(\"key not in dictionary\")\n",
        "        return False\n",
        "\n",
        "print(test(3))"
      ],
      "metadata": {
        "id": "NsToUZso8D1n"
      },
      "execution_count": null,
      "outputs": []
    },
    {
      "cell_type": "markdown",
      "source": [
        "Write a function called checkingIfIn that takes three parameters. The first is a required parameter, which should be a string. The second is an optional parameter called direction with a default value of True. The third is an optional parameter called d that has a default value of {'apple': 2, 'pear': 1, 'fruit': 19, 'orange': 5, 'banana': 3, 'grapes': 2, 'watermelon': 7}. Write the function checkingIfIn so that when the second parameter is True, it checks to see if the first parameter is a key in the third parameter; if it is, return True, otherwise return False.\n",
        "\n",
        "But if the second paramter is False, then the function should check to see if the first parameter is not a key of the third. If it’s not, the function should return True in this case, and if it is, it should return False."
      ],
      "metadata": {
        "id": "gQ0Vb7iE_jo7"
      }
    },
    {
      "cell_type": "code",
      "source": [
        "\n",
        "\n",
        "def checkingIfIn(string, direction = True, d = {'apple': 2, 'pear': 1, 'fruit': 19, 'orange': 5, 'banana': 3, 'grapes': 2, 'watermelon': 7}):\n",
        "    if direction == True:\n",
        "      if string in d.keys():\n",
        "        return True\n",
        "      else:\n",
        "        return False\n",
        "    elif direction == False:\n",
        "      if string not in d.keys():\n",
        "        return True\n",
        "      else:\n",
        "        return False"
      ],
      "metadata": {
        "id": "urOeWLA7-b4M"
      },
      "execution_count": 8,
      "outputs": []
    },
    {
      "cell_type": "markdown",
      "source": [
        "We have provided the function checkingIfIn such that if the first input parameter is in the third, dictionary, input parameter, then the function returns that value, and otherwise, it returns False. Follow the instructions in the active code window for specific variable assignmemts."
      ],
      "metadata": {
        "id": "li9DmNS3B64z"
      }
    },
    {
      "cell_type": "code",
      "source": [
        "\n",
        "def checkingIfIn(a, direction = True, d = {'apple': 2, 'pear': 1, 'fruit': 19, 'orange': 5, 'banana': 3, 'grapes': 2, 'watermelon': 7}):\n",
        "    if direction == True:\n",
        "        if a in d:\n",
        "            return d[a]\n",
        "        else:\n",
        "            return False\n",
        "    else:\n",
        "        if a not in d:\n",
        "            return True\n",
        "        else:\n",
        "            return d[a]\n",
        "\n",
        "# Call the function so that it returns False and assign that function call to the variable c_false\n",
        "c_false = checkingIfIn('melon')\n",
        "print(c_false)\n",
        "# Call the fucntion so that it returns True and assign it to the variable c_true\n",
        "c_true = checkingIfIn('melon', direction = False)\n",
        "print(c_true)\n",
        "# Call the function so that the value of fruit is assigned to the variable fruit_ans\n",
        "fruit_ans = checkingIfIn('fruit')\n",
        "print(fruit_ans)\n",
        "# Call the function using the first and third parameter so that the value 8 is assigned to the variable param_check\n",
        "param_check = checkingIfIn(a = \"strawberry\", d = {\"strawberry\": 8})\n",
        "print(param_check)"
      ],
      "metadata": {
        "id": "IFSi26c7_uOI"
      },
      "execution_count": null,
      "outputs": []
    }
  ]
}