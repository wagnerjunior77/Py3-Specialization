{
  "nbformat": 4,
  "nbformat_minor": 0,
  "metadata": {
    "colab": {
      "provenance": [],
      "authorship_tag": "ABX9TyMmWzxvJuhAbMqMXeQPa6GP",
      "include_colab_link": true
    },
    "kernelspec": {
      "name": "python3",
      "display_name": "Python 3"
    },
    "language_info": {
      "name": "python"
    }
  },
  "cells": [
    {
      "cell_type": "markdown",
      "metadata": {
        "id": "view-in-github",
        "colab_type": "text"
      },
      "source": [
        "<a href=\"https://colab.research.google.com/github/wagnerjunior77/Py3-Specialization/blob/Course4/PCI_week2.ipynb\" target=\"_parent\"><img src=\"https://colab.research.google.com/assets/colab-badge.svg\" alt=\"Open In Colab\"/></a>"
      ]
    },
    {
      "cell_type": "markdown",
      "source": [
        "Assessment: Week 2"
      ],
      "metadata": {
        "id": "qOqYaYtpE3RA"
      }
    },
    {
      "cell_type": "markdown",
      "source": [
        "\n",
        "The class, Pokemon, is provided below and describes a Pokemon and its leveling and evolving characteristics. An instance of the class is one pokemon that you create.\n",
        "\n",
        "Grass_Pokemon is a subclass that inherits from Pokemon but changes some aspects, for instance, the boost values are different.\n",
        "\n",
        "For the subclass Grass_Pokemon, add another method called action that returns the string \"[name of pokemon] knows a lot of different moves!\". Create an instance of this class with the name as \"Belle\". Assign this instance to the variable p1.\n"
      ],
      "metadata": {
        "id": "4hmb-MLOE0-z"
      }
    },
    {
      "cell_type": "code",
      "execution_count": null,
      "metadata": {
        "id": "-StkfRIk67JT"
      },
      "outputs": [],
      "source": [
        "\n",
        "class Pokemon(object):\n",
        "    attack = 12\n",
        "    defense = 10\n",
        "    health = 15\n",
        "    p_type = \"Normal\"\n",
        "\n",
        "    def __init__(self, name, level = 5):\n",
        "        self.name = name\n",
        "        self.level = level\n",
        "\n",
        "    def train(self):\n",
        "        self.update()\n",
        "        self.attack_up()\n",
        "        self.defense_up()\n",
        "        self.health_up()\n",
        "        self.level = self.level + 1\n",
        "        if self.level%self.evolve == 0:\n",
        "            return self.level, \"Evolved!\"\n",
        "        else:\n",
        "            return self.level\n",
        "\n",
        "    def attack_up(self):\n",
        "        self.attack = self.attack + self.attack_boost\n",
        "        return self.attack\n",
        "\n",
        "    def defense_up(self):\n",
        "        self.defense = self.defense + self.defense_boost\n",
        "        return self.defense\n",
        "\n",
        "    def health_up(self):\n",
        "        self.health = self.health + self.health_boost\n",
        "        return self.health\n",
        "\n",
        "    def update(self):\n",
        "        self.health_boost = 5\n",
        "        self.attack_boost = 3\n",
        "        self.defense_boost = 2\n",
        "        self.evolve = 10\n",
        "\n",
        "    def __str__(self):\n",
        "        self.update()\n",
        "        return \"Pokemon name: {}, Type: {}, Level: {}\".format(self.name, self.p_type, self.level)\n",
        "\n",
        "class Grass_Pokemon(Pokemon):\n",
        "    attack = 15\n",
        "    defense = 14\n",
        "    health = 12\n",
        "\n",
        "    def update(self):\n",
        "        self.health_boost = 6\n",
        "        self.attack_boost = 2\n",
        "        self.defense_boost = 3\n",
        "        self.evolve = 12\n",
        "\n",
        "    def moves(self):\n",
        "        self.p_moves = [\"razor leaf\", \"synthesis\", \"petal dance\"]\n",
        "\n",
        "    def action(self):\n",
        "      return f\"{self.name} knows a lot of different moves!\"\n",
        "\n",
        "p1 = Grass_Pokemon(\"Belle\")\n",
        "print(p1.action())"
      ]
    },
    {
      "cell_type": "markdown",
      "source": [
        "\n",
        "\n",
        "Modify the Grass_Pokemon subclass so that the attack strength for Grass_Pokemon instances does not change until they reach level 10. At level 10 and up, their attack strength should increase by the attack_boost amount when they are trained.\n",
        "\n",
        "To test, create an instance of the class with the name as \"Bulby\". Assign the instance to the variable p2. Create another instance of the Grass_Pokemon class with the name set to \"Pika\" and assign that instance to the variable p3. Then, use Grass_Pokemon methods to train the p3 Grass_Pokemon instance until it reaches at least level 10.\n"
      ],
      "metadata": {
        "id": "JYFuKWgAI2GH"
      }
    },
    {
      "cell_type": "code",
      "source": [
        "\n",
        "class Pokemon(object):\n",
        "    attack = 12\n",
        "    defense = 10\n",
        "    health = 15\n",
        "    p_type = \"Normal\"\n",
        "\n",
        "    def __init__(self, name, level = 5):\n",
        "        self.name = name\n",
        "        self.level = level\n",
        "\n",
        "    def train(self):\n",
        "        \n",
        "        self.update()\n",
        "        if self.level >= 9:\n",
        "            self.attack_up()\n",
        "        self.defense_up()\n",
        "        self.health_up()\n",
        "        self.level = self.level + 1\n",
        "        if self.level%self.evolve == 0:\n",
        "            return self.level, \"Evolved!\"\n",
        "        else:\n",
        "            return self.level\n",
        "\n",
        "    def attack_up(self):\n",
        "        self.attack = self.attack + self.attack_boost\n",
        "        return self.attack\n",
        "\n",
        "    def defense_up(self):\n",
        "        self.defense = self.defense + self.defense_boost\n",
        "        return self.defense\n",
        "\n",
        "    def health_up(self):\n",
        "        self.health = self.health + self.health_boost\n",
        "        return self.health\n",
        "\n",
        "    def update(self):\n",
        "        self.health_boost = 5\n",
        "        self.attack_boost = 3\n",
        "        self.defense_boost = 2\n",
        "        self.evolve = 10\n",
        "\n",
        "    def __str__(self):\n",
        "        return \"Pokemon name: {}, Type: {}, Level: {}\".format(self.name, self.p_type, self.level)\n",
        "\n",
        "class Grass_Pokemon(Pokemon):\n",
        "    attack = 15\n",
        "    defense = 14\n",
        "    health = 12\n",
        "    p_type = \"Grass\"\n",
        "\n",
        "    def update(self):\n",
        "        self.health_boost = 6\n",
        "        \n",
        "        self.attack_boost = 2\n",
        "        \n",
        "        self.defense_boost = 3\n",
        "        self.evolve = 12\n",
        "\n",
        "    def moves(self):\n",
        "        self.p_moves = [\"razor leaf\", \"synthesis\", \"petal dance\"]\n",
        "\n",
        "p2 = Grass_Pokemon(\"Bulby\")\n",
        "p3 = Grass_Pokemon(\"Pika\")\n",
        "\n",
        "for c in range(5):\n",
        "  p3.train()\n",
        "print(p3.attack)\n",
        "print(p3.level)\n"
      ],
      "metadata": {
        "id": "M0l7vycZI5DI"
      },
      "execution_count": null,
      "outputs": []
    },
    {
      "cell_type": "markdown",
      "source": [
        "\n",
        "\n",
        "Along with the Pokemon parent class, we have also provided several subclasses. Write another method in the parent class that will be inherited by the subclasses. Call it opponent. It should return which type of pokemon the current type is weak and strong against, as a tuple.\n",
        "\n",
        "    Grass is weak against Fire and strong against Water\n",
        "\n",
        "    Ghost is weak against Dark and strong against Psychic\n",
        "\n",
        "    Fire is weak against Water and strong against Grass\n",
        "\n",
        "    Flying is weak against Electric and strong against Fighting\n",
        "\n",
        "For example, if the p_type of the subclass is 'Grass', .opponent() should return the tuple ('Fire', 'Water')\n"
      ],
      "metadata": {
        "id": "l5hJWwCfSlsh"
      }
    },
    {
      "cell_type": "code",
      "source": [
        "\n",
        "class Pokemon():\n",
        "    attack = 12\n",
        "    defense = 10\n",
        "    health = 15\n",
        "    p_type = \"Normal\"\n",
        "\n",
        "    def __init__(self, name,level = 5):\n",
        "        self.name = name\n",
        "        self.level = level\n",
        "        self.weak = \"Normal\"\n",
        "        self.strong = \"Normal\"\n",
        "\n",
        "    def train(self):\n",
        "        self.update()\n",
        "        self.attack_up()\n",
        "        self.defense_up()\n",
        "        self.health_up()\n",
        "        self.level = self.level + 1\n",
        "        if self.level%self.evolve == 0:\n",
        "            return self.level, \"Evolved!\"\n",
        "        else:\n",
        "            return self.level\n",
        "\n",
        "    def attack_up(self):\n",
        "        self.attack = self.attack + self.attack_boost\n",
        "        return self.attack\n",
        "\n",
        "    def defense_up(self):\n",
        "        self.defense = self.defense + self.defense_boost\n",
        "        return self.defense\n",
        "\n",
        "    def health_up(self):\n",
        "        self.health = self.health + self.health_boost\n",
        "        return self.health\n",
        "\n",
        "    def update(self):\n",
        "        self.health_boost = 5\n",
        "        self.attack_boost = 3\n",
        "        self.defense_boost = 2\n",
        "        self.evolve = 10\n",
        "\n",
        "    def opponent(self):\n",
        "      if self.p_type == \"Grass\": return ('Fire', 'Water')\n",
        "      if self.p_type == \"Ghost\": return ('Dark', 'Psychic')\n",
        "      if self.p_type == \"Fire\": return ('Water', 'Grass')\n",
        "      if self.p_type == \"Flying\": return ('Electric', 'Fighting')\n",
        "      \n",
        "    def __str__(self):\n",
        "        self.update()\n",
        "        return \"Pokemon name: {}, Type: {}, Level: {}\".format(self.name, self.p_type, self.level)\n",
        "    \n",
        "class Grass_Pokemon(Pokemon):\n",
        "    attack = 15\n",
        "    defense = 14\n",
        "    health = 12\n",
        "    p_type = \"Grass\"\n",
        "\n",
        "    def update(self):\n",
        "        self.health_boost = 6\n",
        "        self.attack_boost = 2\n",
        "        self.defense_boost = 3\n",
        "        self.evolve = 12\n",
        "\n",
        "class Ghost_Pokemon(Pokemon):\n",
        "    p_type = \"Ghost\"\n",
        "\n",
        "    def update(self):\n",
        "        self.health_boost = 3\n",
        "        self.attack_boost = 4\n",
        "        self.defense_boost = 3\n",
        "\n",
        "class Fire_Pokemon(Pokemon):\n",
        "    p_type = \"Fire\"\n",
        "\n",
        "class Flying_Pokemon(Pokemon):\n",
        "    p_type = \"Flying\"\n",
        "\n",
        "p1 = Grass_Pokemon(\"JorFrame Joaninha\")\n",
        "print(p1.opponent())\n",
        "\n",
        "p2 = Fire_Pokemon(\"Luilson\")\n",
        "p2.opponent()\n",
        "    \n",
        "    "
      ],
      "metadata": {
        "colab": {
          "base_uri": "https://localhost:8080/"
        },
        "id": "o2077gXQS7Cu",
        "outputId": "9682e718-acd7-4035-bff6-eab5923d6807"
      },
      "execution_count": 36,
      "outputs": [
        {
          "output_type": "stream",
          "name": "stdout",
          "text": [
            "('Fire', 'Water')\n"
          ]
        },
        {
          "output_type": "execute_result",
          "data": {
            "text/plain": [
              "('Water', 'Grass')"
            ]
          },
          "metadata": {},
          "execution_count": 36
        }
      ]
    }
  ]
}