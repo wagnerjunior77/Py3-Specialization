{
  "nbformat": 4,
  "nbformat_minor": 0,
  "metadata": {
    "colab": {
      "provenance": [],
      "collapsed_sections": [],
      "authorship_tag": "ABX9TyOaUacOlYA4AJiVvLYo8agE",
      "include_colab_link": true
    },
    "kernelspec": {
      "name": "python3",
      "display_name": "Python 3"
    },
    "language_info": {
      "name": "python"
    }
  },
  "cells": [
    {
      "cell_type": "markdown",
      "metadata": {
        "id": "view-in-github",
        "colab_type": "text"
      },
      "source": [
        "<a href=\"https://colab.research.google.com/github/wagnerjunior77/Py3-Specialization/blob/PythonBasics/PB_week4.ipynb\" target=\"_parent\"><img src=\"https://colab.research.google.com/assets/colab-badge.svg\" alt=\"Open In Colab\"/></a>"
      ]
    },
    {
      "cell_type": "markdown",
      "source": [
        "Graded exercises - Week 4"
      ],
      "metadata": {
        "id": "ULTtiy5r_xDT"
      }
    },
    {
      "cell_type": "markdown",
      "source": [
        "Write code to add ‘horseback riding’ to the third position (i.e., right before volleyball) in the list sports."
      ],
      "metadata": {
        "id": "o0MzD7G9_z6q"
      }
    },
    {
      "cell_type": "code",
      "execution_count": null,
      "metadata": {
        "id": "qcLDAdT__sZM"
      },
      "outputs": [],
      "source": [
        "sports = ['cricket', 'football', 'volleyball', 'baseball', 'softball', 'track and field', 'curling', 'ping pong', 'hockey']\n",
        "\n",
        "sports.insert(2,'horseback riding')"
      ]
    },
    {
      "cell_type": "markdown",
      "source": [
        "Write code to take ‘London’ out of the list trav_dest."
      ],
      "metadata": {
        "id": "Q7UqL1wQ_29Z"
      }
    },
    {
      "cell_type": "code",
      "source": [
        "trav_dest = ['Beirut', 'Milan', 'Pittsburgh', 'Buenos Aires', 'Nairobi', 'Kathmandu', 'Osaka', 'London', 'Melbourne']\n",
        "\n",
        "trav_dest.remove('London')"
      ],
      "metadata": {
        "id": "q1GPy7zG_6Uo"
      },
      "execution_count": null,
      "outputs": []
    },
    {
      "cell_type": "markdown",
      "source": [
        "Write code to add ‘Guadalajara’ to the end of the list trav_dest using a list method."
      ],
      "metadata": {
        "id": "6BnMskQ__7yl"
      }
    },
    {
      "cell_type": "code",
      "source": [
        "trav_dest = ['Beirut', 'Milan', 'Pittsburgh', 'Buenos Aires', 'Nairobi', 'Kathmandu', 'Osaka', 'Melbourne']\n",
        "\n",
        "trav_dest.append('Guadalajara')"
      ],
      "metadata": {
        "id": "VZuJAO2K_90w"
      },
      "execution_count": null,
      "outputs": []
    },
    {
      "cell_type": "markdown",
      "source": [
        "Currently there is a string called str1. Write code to create a list called chars which should contain the characters from str1. Each character in str1 should be its own element in the list chars."
      ],
      "metadata": {
        "id": "MlO9wb75__QN"
      }
    },
    {
      "cell_type": "code",
      "source": [
        "str1 = \"I love python\"\n",
        "# HINT: what's the accumulator? That should go here.\n",
        "\n",
        "chars = []\n",
        "\n",
        "for elements in str1:\n",
        "    chars.append(elements)\n",
        "\n",
        "print(chars)"
      ],
      "metadata": {
        "id": "6W8zIAVzGqkO"
      },
      "execution_count": null,
      "outputs": []
    },
    {
      "cell_type": "markdown",
      "source": [
        "For each string in wrds, add ‘ed’ to the end of the word (to make the word past tense). Save these past tense words to a list called past_wrds."
      ],
      "metadata": {
        "id": "o7P5QHdxOLfI"
      }
    },
    {
      "cell_type": "code",
      "source": [
        "wrds = [\"end\", 'work', \"play\", \"start\", \"walk\", \"look\", \"open\", \"rain\", \"learn\", \"clean\"]\n",
        "\n",
        "\n",
        "past_wrds = list()\n",
        "\n",
        "for elements in wrds:\n",
        "    past_wrds.append(elements+\"ed\")"
      ],
      "metadata": {
        "id": "FyMHwPW2OMJN"
      },
      "execution_count": null,
      "outputs": []
    },
    {
      "cell_type": "markdown",
      "source": [
        "----- Final Course Assignment -----"
      ],
      "metadata": {
        "id": "ZEfNqgIUR8KO"
      }
    },
    {
      "cell_type": "markdown",
      "source": [
        "Below are a set of scores that students have received in the past semester. Write code to determine how many are 90 or above and assign that result to the value a_scores."
      ],
      "metadata": {
        "id": "GFWQFi2XR56X"
      }
    },
    {
      "cell_type": "code",
      "source": [
        "scores = \"67 80 90 78 93 20 79 89 96 97 92 88 79 68 58 90 98 100 79 74 83 88 80 86 85 70 90 100\"\n",
        "\n",
        "str_lst_scores = scores.split()\n",
        "int_lst_scores = []\n",
        "\n",
        "for numbers in str_lst_scores:\n",
        "    \n",
        "    int_lst_scores.append(int(numbers))\n",
        "\n",
        "lst_scores = []\n",
        "\n",
        "a_scores = 0\n",
        "for numbers in int_lst_scores:\n",
        "    if numbers >= 90:\n",
        "        a_scores += 1\n",
        "        lst_scores.append(numbers)\n",
        "        \n",
        "print(lst_scores)\n",
        "print(a_scores)"
      ],
      "metadata": {
        "id": "fgXXmFy_QhXj"
      },
      "execution_count": null,
      "outputs": []
    }
  ]
}