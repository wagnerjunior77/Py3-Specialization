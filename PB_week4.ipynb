{
  "nbformat": 4,
  "nbformat_minor": 0,
  "metadata": {
    "colab": {
      "provenance": [],
      "authorship_tag": "ABX9TyMTIa3Oue7VEx+cqPqWYA1T",
      "include_colab_link": true
    },
    "kernelspec": {
      "name": "python3",
      "display_name": "Python 3"
    },
    "language_info": {
      "name": "python"
    }
  },
  "cells": [
    {
      "cell_type": "markdown",
      "metadata": {
        "id": "view-in-github",
        "colab_type": "text"
      },
      "source": [
        "<a href=\"https://colab.research.google.com/github/wagnerjunior77/Py3-Specialization/blob/PythonBasics/PB_week4.ipynb\" target=\"_parent\"><img src=\"https://colab.research.google.com/assets/colab-badge.svg\" alt=\"Open In Colab\"/></a>"
      ]
    },
    {
      "cell_type": "markdown",
      "source": [
        "Graded exercises - Week 4"
      ],
      "metadata": {
        "id": "ULTtiy5r_xDT"
      }
    },
    {
      "cell_type": "markdown",
      "source": [
        "Write code to add ‘horseback riding’ to the third position (i.e., right before volleyball) in the list sports."
      ],
      "metadata": {
        "id": "o0MzD7G9_z6q"
      }
    },
    {
      "cell_type": "code",
      "execution_count": null,
      "metadata": {
        "id": "qcLDAdT__sZM"
      },
      "outputs": [],
      "source": [
        "sports = ['cricket', 'football', 'volleyball', 'baseball', 'softball', 'track and field', 'curling', 'ping pong', 'hockey']\n",
        "\n",
        "sports.insert(2,'horseback riding')"
      ]
    },
    {
      "cell_type": "markdown",
      "source": [
        "Write code to take ‘London’ out of the list trav_dest."
      ],
      "metadata": {
        "id": "Q7UqL1wQ_29Z"
      }
    },
    {
      "cell_type": "code",
      "source": [
        "trav_dest = ['Beirut', 'Milan', 'Pittsburgh', 'Buenos Aires', 'Nairobi', 'Kathmandu', 'Osaka', 'London', 'Melbourne']\n",
        "\n",
        "trav_dest.remove('London')"
      ],
      "metadata": {
        "id": "q1GPy7zG_6Uo"
      },
      "execution_count": null,
      "outputs": []
    },
    {
      "cell_type": "markdown",
      "source": [
        "Write code to add ‘Guadalajara’ to the end of the list trav_dest using a list method."
      ],
      "metadata": {
        "id": "6BnMskQ__7yl"
      }
    },
    {
      "cell_type": "code",
      "source": [
        "trav_dest = ['Beirut', 'Milan', 'Pittsburgh', 'Buenos Aires', 'Nairobi', 'Kathmandu', 'Osaka', 'Melbourne']\n",
        "\n",
        "trav_dest.append('Guadalajara')"
      ],
      "metadata": {
        "id": "VZuJAO2K_90w"
      },
      "execution_count": null,
      "outputs": []
    },
    {
      "cell_type": "markdown",
      "source": [],
      "metadata": {
        "id": "MlO9wb75__QN"
      }
    }
  ]
}