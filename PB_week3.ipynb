{
  "nbformat": 4,
  "nbformat_minor": 0,
  "metadata": {
    "colab": {
      "provenance": [],
      "collapsed_sections": [],
      "authorship_tag": "ABX9TyMli/THfE8GUGPT7BXhdI25",
      "include_colab_link": true
    },
    "kernelspec": {
      "name": "python3",
      "display_name": "Python 3"
    },
    "language_info": {
      "name": "python"
    }
  },
  "cells": [
    {
      "cell_type": "markdown",
      "metadata": {
        "id": "view-in-github",
        "colab_type": "text"
      },
      "source": [
        "<a href=\"https://colab.research.google.com/github/wagnerjunior77/Py3-Specialization/blob/PythonBasics/PB_week3.ipynb\" target=\"_parent\"><img src=\"https://colab.research.google.com/assets/colab-badge.svg\" alt=\"Open In Colab\"/></a>"
      ]
    },
    {
      "cell_type": "markdown",
      "source": [
        "Graded exercises"
      ],
      "metadata": {
        "id": "nu5N4xafy8pW"
      }
    },
    {
      "cell_type": "markdown",
      "source": [
        "rainfall_mi is a string that contains the average number of inches of rainfall in Michigan for every month (in inches) with every month separated by a comma. Write code to compute the number of months that have more than 3 inches of rainfall. Store the result in the variable num_rainy_months. In other words, count the number of items with values > 3.0.\n",
        "\n",
        "Hard-coded answers will receive no credit."
      ],
      "metadata": {
        "id": "Cqiwmqt-y-td"
      }
    },
    {
      "cell_type": "code",
      "source": [
        "rainfall_mi = \"1.65, 1.46, 2.05, 3.03, 3.35, 3.46, 2.83, 3.23, 3.5, 2.52, 2.8, 1.85\"\n",
        "\n",
        "#separate the numbers\n",
        "str_numbers = rainfall_mi.split(\",\")\n",
        "\n",
        "float_numbers = list()\n",
        "\n",
        "for x in str_numbers:\n",
        "    x.strip()\n",
        "    #parsing to float\n",
        "    float_numbers.append(float(x))\n",
        "    \n",
        "num_rainy_months = 0\n",
        "\n",
        "for y in float_numbers:\n",
        "    #getting all the numbers higher than 3\n",
        "    if y > 3.0:\n",
        "      num_rainy_months += 1\n",
        "print(num_rainy_months)"
      ],
      "metadata": {
        "id": "95aRYmbazBhV"
      },
      "execution_count": null,
      "outputs": []
    },
    {
      "cell_type": "markdown",
      "source": [
        "The variable sentence stores a string. Write code to determine how many words in sentence start and end with the same letter, including one-letter words. Store the result in the variable same_letter_count.\n",
        "\n",
        "Hard-coded answers will receive no credit."
      ],
      "metadata": {
        "id": "nVqqOvkozPPn"
      }
    },
    {
      "cell_type": "code",
      "source": [
        "sentence = \"students flock to the arb for a variety of outdoor activities such as jogging and picnicking\"\n",
        "\n",
        "words_list = sentence.split()\n",
        "\n",
        "same_letter_count = 0\n",
        "\n",
        "for words in words_list:\n",
        "    #getting the first and last letter\n",
        "    if words[0] and words[len(words)-1] == words[0]:\n",
        "        same_letter_count += 1\n",
        "\n",
        "print(same_letter_count)\n",
        "        \n",
        "print(\"a\" and \"a\")"
      ],
      "metadata": {
        "id": "tVMqiMV_zRAr"
      },
      "execution_count": null,
      "outputs": []
    },
    {
      "cell_type": "markdown",
      "source": [
        "Write code to count the number of strings in list items that have the character w in it. Assign that number to the variable acc_num.\n",
        "\n",
        "HINT 1: Use the accumulation pattern!\n",
        "\n",
        "HINT 2: the in operator checks whether a substring is present in a string.\n",
        "\n",
        "Hard-coded answers will receive no credit."
      ],
      "metadata": {
        "id": "GaohpkaYzWS4"
      }
    },
    {
      "cell_type": "code",
      "source": [
        "items = [\"whirring\", \"wow!\", \"calendar\", \"wry\", \"glass\", \"\", \"llama\",\"tumultuous\",\"owing\"]\n",
        "\n",
        "acc_num = 0\n",
        "\n",
        "for w in items:\n",
        "    #getting the w's\n",
        "    if \"w\" in w:\n",
        "        acc_num += 1\n",
        "\n",
        "print(acc_num)"
      ],
      "metadata": {
        "id": "kf5OQ793zXHS"
      },
      "execution_count": null,
      "outputs": []
    },
    {
      "cell_type": "markdown",
      "source": [
        "Write code that counts the number of words in sentence that contain either an “a” or an “e”. Store the result in the variable num_a_or_e.\n",
        "\n",
        "Note 1: be sure to not double-count words that contain both an a and an e.\n",
        "\n",
        "HINT 1: Use the in operator.\n",
        "\n",
        "HINT 2: You can either use or or elif.\n",
        "\n",
        "Hard-coded answers will receive no credit."
      ],
      "metadata": {
        "id": "xy8xgDv4zYtu"
      }
    },
    {
      "cell_type": "code",
      "source": [
        "sentence = \"python is a high level general purpose programming language that can be applied to many different classes of problems.\"\n",
        "\n",
        "words = sentence.split()\n",
        "num_a_or_e = 0\n",
        "\n",
        "for ae in words:\n",
        "  #getting the count of the words with 'a' and 'e'\n",
        "  if \"a\" in ae or \"e\" in ae:\n",
        "     num_a_or_e += 1\n",
        "        \n",
        "\n",
        "print(num_a_or_e)"
      ],
      "metadata": {
        "id": "tSkA8SvOzalZ"
      },
      "execution_count": null,
      "outputs": []
    },
    {
      "cell_type": "markdown",
      "source": [
        "Write code that will count the number of vowels in the sentence s and assign the result to the variable num_vowels. For this problem, vowels are only a, e, i, o, and u. Hint: use the in operator with vowels."
      ],
      "metadata": {
        "id": "6MihgKp7zfD1"
      }
    },
    {
      "cell_type": "code",
      "source": [
        "s = \"singing in the rain and playing in the rain are two entirely different situations but both can be fun\"\n",
        "vowels = ['a','e','i','o','u']\n",
        "\n",
        "num_vowels = 0\n",
        "\n",
        "for aeiou in s:\n",
        "    #counting the vowels\n",
        "    if aeiou in vowels:\n",
        "        num_vowels += 1\n",
        "\n",
        "print(num_vowels)"
      ],
      "metadata": {
        "id": "oUXsFdYNzfaW"
      },
      "execution_count": null,
      "outputs": []
    }
  ]
}