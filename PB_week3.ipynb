{
  "cells": [
    {
      "cell_type": "markdown",
      "metadata": {
        "colab_type": "text",
        "id": "view-in-github"
      },
      "source": [
        "<a href=\"https://colab.research.google.com/github/wagnerjunior77/Py3-Specialization/blob/PythonBasics/PB_week3.ipynb\" target=\"_parent\"><img src=\"https://colab.research.google.com/assets/colab-badge.svg\" alt=\"Open In Colab\"/></a>"
      ]
    },
    {
      "cell_type": "markdown",
      "metadata": {
        "id": "nu5N4xafy8pW"
      },
      "source": [
        "Graded exercises"
      ]
    },
    {
      "cell_type": "markdown",
      "metadata": {
        "id": "Cqiwmqt-y-td"
      },
      "source": [
        "rainfall_mi is a string that contains the average number of inches of rainfall in Michigan for every month (in inches) with every month separated by a comma. Write code to compute the number of months that have more than 3 inches of rainfall. Store the result in the variable num_rainy_months. In other words, count the number of items with values > 3.0.\n",
        "\n",
        "Hard-coded answers will receive no credit."
      ]
    },
    {
      "cell_type": "code",
      "execution_count": 1,
      "metadata": {
        "id": "95aRYmbazBhV"
      },
      "outputs": [
        {
          "name": "stdout",
          "output_type": "stream",
          "text": [
            "5\n"
          ]
        }
      ],
      "source": [
        "rainfall_mi = \"1.65, 1.46, 2.05, 3.03, 3.35, 3.46, 2.83, 3.23, 3.5, 2.52, 2.8, 1.85\"\n",
        "\n",
        "#separate the numbers\n",
        "str_numbers = rainfall_mi.split(\",\")\n",
        "\n",
        "float_numbers = list()\n",
        "\n",
        "for x in str_numbers:\n",
        "    x.strip()\n",
        "    #parsing to float\n",
        "    float_numbers.append(float(x))\n",
        "    \n",
        "num_rainy_months = 0\n",
        "\n",
        "for y in float_numbers:\n",
        "    #getting all the numbers higher than 3\n",
        "    if y > 3.0:\n",
        "      num_rainy_months += 1\n",
        "print(num_rainy_months)"
      ]
    },
    {
      "cell_type": "markdown",
      "metadata": {
        "id": "nVqqOvkozPPn"
      },
      "source": [
        "The variable sentence stores a string. Write code to determine how many words in sentence start and end with the same letter, including one-letter words. Store the result in the variable same_letter_count.\n",
        "\n",
        "Hard-coded answers will receive no credit."
      ]
    },
    {
      "cell_type": "code",
      "execution_count": null,
      "metadata": {
        "id": "tVMqiMV_zRAr"
      },
      "outputs": [],
      "source": [
        "sentence = \"students flock to the arb for a variety of outdoor activities such as jogging and picnicking\"\n",
        "\n",
        "words_list = sentence.split()\n",
        "\n",
        "same_letter_count = 0\n",
        "\n",
        "for words in words_list:\n",
        "    #getting the first and last letter\n",
        "    if words[0] and words[len(words)-1] == words[0]:\n",
        "        same_letter_count += 1\n",
        "\n",
        "print(same_letter_count)\n",
        "        \n",
        "print(\"a\" and \"a\")"
      ]
    },
    {
      "cell_type": "markdown",
      "metadata": {
        "id": "GaohpkaYzWS4"
      },
      "source": [
        "Write code to count the number of strings in list items that have the character w in it. Assign that number to the variable acc_num.\n",
        "\n",
        "HINT 1: Use the accumulation pattern!\n",
        "\n",
        "HINT 2: the in operator checks whether a substring is present in a string.\n",
        "\n",
        "Hard-coded answers will receive no credit."
      ]
    },
    {
      "cell_type": "code",
      "execution_count": null,
      "metadata": {
        "id": "kf5OQ793zXHS"
      },
      "outputs": [],
      "source": [
        "items = [\"whirring\", \"wow!\", \"calendar\", \"wry\", \"glass\", \"\", \"llama\",\"tumultuous\",\"owing\"]\n",
        "\n",
        "acc_num = 0\n",
        "\n",
        "for w in items:\n",
        "    #getting the w's\n",
        "    if \"w\" in w:\n",
        "        acc_num += 1\n",
        "\n",
        "print(acc_num)"
      ]
    },
    {
      "cell_type": "markdown",
      "metadata": {
        "id": "xy8xgDv4zYtu"
      },
      "source": [
        "Write code that counts the number of words in sentence that contain either an “a” or an “e”. Store the result in the variable num_a_or_e.\n",
        "\n",
        "Note 1: be sure to not double-count words that contain both an a and an e.\n",
        "\n",
        "HINT 1: Use the in operator.\n",
        "\n",
        "HINT 2: You can either use or or elif.\n",
        "\n",
        "Hard-coded answers will receive no credit."
      ]
    },
    {
      "cell_type": "code",
      "execution_count": null,
      "metadata": {
        "id": "tSkA8SvOzalZ"
      },
      "outputs": [],
      "source": [
        "sentence = \"python is a high level general purpose programming language that can be applied to many different classes of problems.\"\n",
        "\n",
        "words = sentence.split()\n",
        "num_a_or_e = 0\n",
        "\n",
        "for ae in words:\n",
        "  #getting the count of the words with 'a' and 'e'\n",
        "  if \"a\" in ae or \"e\" in ae:\n",
        "     num_a_or_e += 1\n",
        "        \n",
        "\n",
        "print(num_a_or_e)"
      ]
    },
    {
      "cell_type": "markdown",
      "metadata": {
        "id": "6MihgKp7zfD1"
      },
      "source": [
        "Write code that will count the number of vowels in the sentence s and assign the result to the variable num_vowels. For this problem, vowels are only a, e, i, o, and u. Hint: use the in operator with vowels."
      ]
    },
    {
      "cell_type": "code",
      "execution_count": null,
      "metadata": {
        "id": "oUXsFdYNzfaW"
      },
      "outputs": [],
      "source": [
        "s = \"singing in the rain and playing in the rain are two entirely different situations but both can be fun\"\n",
        "vowels = ['a','e','i','o','u']\n",
        "\n",
        "num_vowels = 0\n",
        "\n",
        "for aeiou in s:\n",
        "    #counting the vowels\n",
        "    if aeiou in vowels:\n",
        "        num_vowels += 1\n",
        "\n",
        "print(num_vowels)"
      ]
    }
  ],
  "metadata": {
    "colab": {
      "authorship_tag": "ABX9TyMli/THfE8GUGPT7BXhdI25",
      "collapsed_sections": [],
      "include_colab_link": true,
      "provenance": []
    },
    "kernelspec": {
      "display_name": "Python 3.10.8 64-bit (microsoft store)",
      "language": "python",
      "name": "python3"
    },
    "language_info": {
      "codemirror_mode": {
        "name": "ipython",
        "version": 3
      },
      "file_extension": ".py",
      "mimetype": "text/x-python",
      "name": "python",
      "nbconvert_exporter": "python",
      "pygments_lexer": "ipython3",
      "version": "3.10.8"
    },
    "vscode": {
      "interpreter": {
        "hash": "e21bc78bf1fc685230f48d756dbfc2d67e4d7844376414e3fc478311471416c1"
      }
    }
  },
  "nbformat": 4,
  "nbformat_minor": 0
}
