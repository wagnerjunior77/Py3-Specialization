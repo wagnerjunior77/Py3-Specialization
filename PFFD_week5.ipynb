{
  "nbformat": 4,
  "nbformat_minor": 0,
  "metadata": {
    "colab": {
      "provenance": [],
      "authorship_tag": "ABX9TyOGODsz0Ekdw7gve/+TB62y",
      "include_colab_link": true
    },
    "kernelspec": {
      "name": "python3",
      "display_name": "Python 3"
    },
    "language_info": {
      "name": "python"
    }
  },
  "cells": [
    {
      "cell_type": "markdown",
      "metadata": {
        "id": "view-in-github",
        "colab_type": "text"
      },
      "source": [
        "<a href=\"https://colab.research.google.com/github/wagnerjunior77/Py3-Specialization/blob/Course2/PFFD_week5.ipynb\" target=\"_parent\"><img src=\"https://colab.research.google.com/assets/colab-badge.svg\" alt=\"Open In Colab\"/></a>"
      ]
    },
    {
      "cell_type": "markdown",
      "source": [
        "Assessment: Sorting"
      ],
      "metadata": {
        "id": "k5LYccndpSuO"
      }
    },
    {
      "cell_type": "markdown",
      "source": [
        "Sort the following string alphabetically, from z to a, and assign it to the variable sorted_letters."
      ],
      "metadata": {
        "id": "LnOyO9QFpUpa"
      }
    },
    {
      "cell_type": "code",
      "source": [
        "letters = \"alwnfiwaksuezlaeiajsdl\"\n",
        "\n",
        "sorted_letters = sorted(letters, reverse = True)\n",
        "\n",
        "print(sorted_letters)"
      ],
      "metadata": {
        "id": "MVMbcXGYpWPf"
      },
      "execution_count": null,
      "outputs": []
    },
    {
      "cell_type": "markdown",
      "source": [
        "Sort the list below, animals, into alphabetical order, a-z. Save the new list as animals_sorted."
      ],
      "metadata": {
        "id": "Afn5EKGJpXyO"
      }
    },
    {
      "cell_type": "code",
      "source": [
        "\n",
        "animals = ['elephant', 'cat', 'moose', 'antelope', 'elk', 'rabbit', 'zebra', 'yak', 'salamander', 'deer', 'otter', 'minx', 'giraffe', 'goat', 'cow', 'tiger', 'bear']\n",
        "\n",
        "animals_sorted = sorted(animals)\n",
        "\n",
        "print(animals_sorted)"
      ],
      "metadata": {
        "id": "zZmzHZmhpZJx"
      },
      "execution_count": null,
      "outputs": []
    },
    {
      "cell_type": "markdown",
      "source": [
        "The dictionary, medals, shows the medal count for six countries during the Rio Olympics. Sort the country names so they appear alphabetically. Save this list to the variable alphabetical."
      ],
      "metadata": {
        "id": "PLwx-T_RpacC"
      }
    },
    {
      "cell_type": "code",
      "execution_count": null,
      "metadata": {
        "id": "B-erYqtGPGzt"
      },
      "outputs": [],
      "source": [
        "medals = {'Japan':41, 'Russia':56, 'South Korea':21, 'United States':121, 'Germany':42, 'China':70}\n",
        "\n",
        "medals_sort = sorted(medals.items(), key=lambda x: x[1], reverse = True)\n",
        "\n",
        "top_three = []\n",
        "\n",
        "for x in medals_sort:\n",
        "     if len(top_three) < 3:\n",
        "        top_three.append(x[0])\n",
        "\n",
        "print(top_three)"
      ]
    },
    {
      "cell_type": "markdown",
      "source": [
        "Given the same dictionary, medals, now sort by the medal count. Save the three countries with the highest medal count to the list, top_three."
      ],
      "metadata": {
        "id": "wAS9cXNdpdeD"
      }
    },
    {
      "cell_type": "code",
      "source": [
        "medals = {'Japan':41, 'Russia':56, 'South Korea':21, 'United States':121, 'Germany':42, 'China':70}\n",
        "\n",
        "medals_sort = sorted(medals.items(), key=lambda x: x[1], reverse = True)\n",
        "\n",
        "top_three = []\n",
        "\n",
        "for x in medals_sort:\n",
        "     if len(top_three) < 3:\n",
        "        top_three.append(x[0])"
      ],
      "metadata": {
        "id": "cL1H1Adbpm0S"
      },
      "execution_count": null,
      "outputs": []
    },
    {
      "cell_type": "markdown",
      "source": [
        "We have provided the dictionary groceries. You should return a list of its keys, but they should be sorted by their values, from highest to lowest. Save the new list as most_needed."
      ],
      "metadata": {
        "id": "PRiqCQ-Rppt6"
      }
    },
    {
      "cell_type": "code",
      "source": [
        "\n",
        "groceries = {'apples': 5, 'pasta': 3, 'carrots': 12, 'orange juice': 2, 'bananas': 8, 'popcorn': 1, 'salsa': 3, 'cereal': 4, 'coffee': 5, 'granola bars': 15, 'onions': 7, 'rice': 1, 'peanut butter': 2, 'spinach': 9}\n",
        "\n",
        "most_needed_sort = sorted(groceries.items(), key=lambda x: x[1], reverse = True)\n",
        "most_needed = []\n",
        "\n",
        "for x in most_needed_sort:\n",
        "    most_needed.append(x[0])\n",
        "\n",
        "print(most_needed)"
      ],
      "metadata": {
        "id": "ykLpH2a7pqGK"
      },
      "execution_count": null,
      "outputs": []
    },
    {
      "cell_type": "markdown",
      "source": [
        "Create a function called last_four that takes in a single ID number and returns the last four digits. For example, the number 17573005 should return 3005. Then, use the resulting function to sort the list of ids stored in the variable, ids, from lowest to highest. Save this sorted list in the variable, sorted_ids. Hint: Remember that only strings can be indexed, so conversions may be needed."
      ],
      "metadata": {
        "id": "dsB8ePLtprWp"
      }
    },
    {
      "cell_type": "code",
      "source": [
        "'''a = \"abcdefg\"\n",
        "\n",
        "print(a[-4:])'''\n",
        "\n",
        "ids = [17573005, 17572342, 17579000, 17570002, 17572345, 17579329]\n",
        "\n",
        "def last_four(x):\n",
        "    x = str(x)\n",
        "    last_four_var = x[-4:]\n",
        "    \n",
        "    return int(last_four_var)\n",
        "   \n",
        "sorted_ids = sorted(ids, key=last_four)\n",
        "\n",
        "print(sorted_ids)"
      ],
      "metadata": {
        "id": "0tuHkqhFptQp"
      },
      "execution_count": null,
      "outputs": []
    },
    {
      "cell_type": "markdown",
      "source": [
        "Sort the list ids by the last four digits of each id. Do this using lambda and not using a defined function. Save this sorted list in the variable sorted_id."
      ],
      "metadata": {
        "id": "1LEKgQX9pvOx"
      }
    },
    {
      "cell_type": "code",
      "source": [
        "ids = [17573005, 17572342, 17579000, 17570002, 17572345, 17579329]\n",
        "\n",
        "sorted_id = sorted(ids, key = lambda x: str(ids[-4:]))\n",
        "\n",
        "sorted_id = sorted(sorted_id)\n",
        "\n",
        "print(sorted_id)"
      ],
      "metadata": {
        "id": "7y8jFoDok930"
      },
      "execution_count": null,
      "outputs": []
    },
    {
      "cell_type": "markdown",
      "source": [
        "Sort the following list by each element’s second letter a to z. Do so by using lambda. Assign the resulting value to the variable lambda_sort."
      ],
      "metadata": {
        "id": "ZCUlVMpyp0D1"
      }
    },
    {
      "cell_type": "code",
      "source": [
        "\n",
        "ex_lst = ['hi', 'how are you', 'bye', 'apple', 'zebra', 'dance']\n",
        "\n",
        "lambda_sort = sorted(ex_lst, key=lambda x: x[1])\n",
        "\n",
        "\n",
        "\n",
        "print(lambda_sort)"
      ],
      "metadata": {
        "id": "MDywkHM0p148"
      },
      "execution_count": null,
      "outputs": []
    }
  ]
}