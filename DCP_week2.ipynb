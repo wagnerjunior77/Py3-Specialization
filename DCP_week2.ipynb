{
  "nbformat": 4,
  "nbformat_minor": 0,
  "metadata": {
    "colab": {
      "provenance": [],
      "authorship_tag": "ABX9TyNPfBRLp5pIF6AEs93EyZPb",
      "include_colab_link": true
    },
    "kernelspec": {
      "name": "python3",
      "display_name": "Python 3"
    },
    "language_info": {
      "name": "python"
    }
  },
  "cells": [
    {
      "cell_type": "markdown",
      "metadata": {
        "id": "view-in-github",
        "colab_type": "text"
      },
      "source": [
        "<a href=\"https://colab.research.google.com/github/wagnerjunior77/Py3-Specialization/blob/Course3/DCP_week2.ipynb\" target=\"_parent\"><img src=\"https://colab.research.google.com/assets/colab-badge.svg\" alt=\"Open In Colab\"/></a>"
      ]
    },
    {
      "cell_type": "markdown",
      "source": [
        "Assessment: Advanced Accumulation "
      ],
      "metadata": {
        "id": "AP0nWeLG2Tdv"
      }
    },
    {
      "cell_type": "markdown",
      "source": [
        "Write code to assign to the variable map_testing all the elements in lst_check while adding the string “Fruit: ” to the beginning of each element using mapping."
      ],
      "metadata": {
        "id": "iaXUfvx12A6C"
      }
    },
    {
      "cell_type": "code",
      "source": [
        "\n",
        "lst_check = ['plums', 'watermelon', 'kiwi', 'strawberries', 'blueberries', 'peaches', 'apples', 'mangos', 'papaya']\n",
        "\n",
        "map_testing = list(map(lambda x: \"Fruit: \" + x, lst_check))\n",
        "\n",
        "print(map_testing)"
      ],
      "metadata": {
        "colab": {
          "base_uri": "https://localhost:8080/"
        },
        "id": "lVtwtHLD2DnL",
        "outputId": "74ed9aa0-d16e-4663-ef88-b07815b290cd"
      },
      "execution_count": 31,
      "outputs": [
        {
          "output_type": "stream",
          "name": "stdout",
          "text": [
            "['Fruit: plums', 'Fruit: watermelon', 'Fruit: kiwi', 'Fruit: strawberries', 'Fruit: blueberries', 'Fruit: peaches', 'Fruit: apples', 'Fruit: mangos', 'Fruit: papaya']\n"
          ]
        }
      ]
    },
    {
      "cell_type": "markdown",
      "source": [
        "Below, we have provided a list of strings called countries. Use filter to produce a list called b_countries that only contains the strings from countries that begin with B."
      ],
      "metadata": {
        "id": "wBYbfUwl2Fzw"
      }
    },
    {
      "cell_type": "code",
      "source": [
        "\n",
        "countries = ['Canada', 'Mexico', 'Brazil', 'Chile', 'Denmark', 'Botswana', 'Spain', 'Britain', 'Portugal', 'Russia', 'Thailand', 'Bangladesh', 'Nigeria', 'Argentina', 'Belarus', 'Laos', 'Australia', 'Panama', 'Egypt', 'Morocco', 'Switzerland', 'Belgium']\n",
        "\n",
        "b_countries = list(filter(lambda x: \"B\" in x , countries))\n",
        "\n",
        "print(b_countries)"
      ],
      "metadata": {
        "colab": {
          "base_uri": "https://localhost:8080/"
        },
        "id": "1KeEMaXb2HN3",
        "outputId": "6f0bde0e-b4f8-42c6-b638-9160d365f976"
      },
      "execution_count": 32,
      "outputs": [
        {
          "output_type": "stream",
          "name": "stdout",
          "text": [
            "['Brazil', 'Botswana', 'Britain', 'Bangladesh', 'Belarus', 'Belgium']\n"
          ]
        }
      ]
    },
    {
      "cell_type": "markdown",
      "source": [
        "Below, we have provided a list of tuples that contain the names of Game of Thrones characters. Using list comprehension, create a list of strings called first_names that contains only the first names of everyone in the original list."
      ],
      "metadata": {
        "id": "ELx8HPeS2I0q"
      }
    },
    {
      "cell_type": "code",
      "source": [
        "\n",
        "people = [('Snow', 'Jon'), ('Lannister', 'Cersei'), ('Stark', 'Arya'), ('Stark', 'Robb'), ('Lannister', 'Jamie'), ('Targaryen', 'Daenerys'), ('Stark', 'Sansa'), ('Tyrell', 'Margaery'), ('Stark', 'Eddard'), ('Lannister', 'Tyrion'), ('Baratheon', 'Joffrey'), ('Bolton', 'Ramsey'), ('Baelish', 'Peter')]\n",
        "\n",
        "first_names = [x[1] for x in people]\n",
        "\n",
        "print(first_names)"
      ],
      "metadata": {
        "colab": {
          "base_uri": "https://localhost:8080/"
        },
        "id": "YqoJr5Hx2KJH",
        "outputId": "31e619f8-7d02-4ff4-94c5-fb223cc0049c"
      },
      "execution_count": 33,
      "outputs": [
        {
          "output_type": "stream",
          "name": "stdout",
          "text": [
            "['Jon', 'Cersei', 'Arya', 'Robb', 'Jamie', 'Daenerys', 'Sansa', 'Margaery', 'Eddard', 'Tyrion', 'Joffrey', 'Ramsey', 'Peter']\n"
          ]
        }
      ]
    },
    {
      "cell_type": "markdown",
      "source": [
        "Use list comprehension to create a list called lst2 that doubles each element in the list, lst."
      ],
      "metadata": {
        "id": "1j384Xn5xcBt"
      }
    },
    {
      "cell_type": "code",
      "execution_count": 30,
      "metadata": {
        "colab": {
          "base_uri": "https://localhost:8080/"
        },
        "id": "8Kc9OFzPxZlN",
        "outputId": "c8d33fc4-ee58-4d26-b15b-9c928b5b60d2"
      },
      "outputs": [
        {
          "output_type": "stream",
          "name": "stdout",
          "text": [
            "[['hi', 'bye', 'hi', 'bye'], 'hellohello', 'goodbyegoodbye', [9, 2, 9, 2], 8]\n"
          ]
        }
      ],
      "source": [
        "\n",
        "lst = [[\"hi\", \"bye\"], \"hello\", \"goodbye\", [9, 2], 4]\n",
        "\n",
        "lst2 = [x*2 for x in lst]\n",
        "\n",
        "print(lst2)"
      ]
    },
    {
      "cell_type": "markdown",
      "source": [
        "Below, we have provided a list of tuples that contain students’ names and their final grades in PYTHON 101. Using list comprehension, create a new list passed that contains the names of students who passed the class (had a final grade of 70 or greater)."
      ],
      "metadata": {
        "id": "ppP6X4sqxqGT"
      }
    },
    {
      "cell_type": "code",
      "source": [
        "students = [('Tommy', 95), ('Linda', 63), ('Carl', 70), ('Bob', 100), ('Raymond', 50), ('Sue', 75)]\n",
        "\n",
        "passed = [x[0] for x in students if x[1] >= 70]\n",
        "\n",
        "print(passed)"
      ],
      "metadata": {
        "colab": {
          "base_uri": "https://localhost:8080/"
        },
        "id": "r4C3VebOxqcz",
        "outputId": "55a3d31d-a810-4152-d983-4c7b4f9d5848"
      },
      "execution_count": 29,
      "outputs": [
        {
          "output_type": "stream",
          "name": "stdout",
          "text": [
            "['Tommy', 'Carl', 'Bob', 'Sue']\n"
          ]
        }
      ]
    },
    {
      "cell_type": "markdown",
      "source": [
        "Write code using zip and filter so that these lists (l1 and l2) are combined into one big list and assigned to the variable opposites if they are both longer than 3 characters each."
      ],
      "metadata": {
        "id": "b4CsNo_ZyNoP"
      }
    },
    {
      "cell_type": "code",
      "source": [
        "l1 = ['left', 'up', 'front']\n",
        "l2 = ['right', 'down', 'back']\n",
        "\n",
        "zipv = list(zip(l1,l2))\n",
        "opposites = list(filter(lambda x: len(x[0])>3 and len(x[1])>3, zipv))\n",
        "\n",
        "print(opposites)"
      ],
      "metadata": {
        "colab": {
          "base_uri": "https://localhost:8080/"
        },
        "id": "N4bSWZdmyOFD",
        "outputId": "1879f17d-b0af-40b8-9079-26f257dfcb5f"
      },
      "execution_count": 28,
      "outputs": [
        {
          "output_type": "stream",
          "name": "stdout",
          "text": [
            "[('left', 'right'), ('front', 'back')]\n"
          ]
        }
      ]
    },
    {
      "cell_type": "markdown",
      "source": [
        "Below, we have provided a species list and a population list. Use zip to combine these lists into one list of tuples called pop_info. From this list, create a new list called endangered that contains the names of species whose populations are below 2500."
      ],
      "metadata": {
        "id": "OH3tADk70ip-"
      }
    },
    {
      "cell_type": "code",
      "source": [
        "\n",
        "species = ['golden retriever', 'white tailed deer', 'black rhino', 'brown squirrel', 'field mouse', 'orangutan', 'sumatran elephant', 'rainbow trout', 'black bear', 'blue whale', 'water moccasin', 'giant panda', 'green turtle', 'blue jay', 'japanese beetle']\n",
        "\n",
        "population = [10000, 90000, 1000, 2000000, 500000, 500, 1200, 8000, 12000, 2300, 7500, 100, 1800, 9500, 125000]\n",
        "\n",
        "pop_info = list(zip(species, population))\n",
        "\n",
        "endangered_filter = list(filter(lambda x: x[1] < 2500, pop_info))\n",
        "endangered = list(map(lambda x: x[0], endangered_filter))\n",
        "\n",
        "print(endangered)"
      ],
      "metadata": {
        "colab": {
          "base_uri": "https://localhost:8080/"
        },
        "id": "595bJP9M0jpe",
        "outputId": "92fb6ef1-4a2c-4b8b-a46a-5898661ab93b"
      },
      "execution_count": 27,
      "outputs": [
        {
          "output_type": "stream",
          "name": "stdout",
          "text": [
            "['black rhino', 'orangutan', 'sumatran elephant', 'blue whale', 'giant panda', 'green turtle']\n"
          ]
        }
      ]
    }
  ]
}