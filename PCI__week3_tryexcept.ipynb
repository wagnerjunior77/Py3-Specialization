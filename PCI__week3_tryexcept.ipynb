{
  "nbformat": 4,
  "nbformat_minor": 0,
  "metadata": {
    "colab": {
      "provenance": [],
      "authorship_tag": "ABX9TyPaGPCGl/GoYtOwHd2jzNDS",
      "include_colab_link": true
    },
    "kernelspec": {
      "name": "python3",
      "display_name": "Python 3"
    },
    "language_info": {
      "name": "python"
    }
  },
  "cells": [
    {
      "cell_type": "markdown",
      "metadata": {
        "id": "view-in-github",
        "colab_type": "text"
      },
      "source": [
        "<a href=\"https://colab.research.google.com/github/wagnerjunior77/Py3-Specialization/blob/Course4/PCI__week3_tryexcept.ipynb\" target=\"_parent\"><img src=\"https://colab.research.google.com/assets/colab-badge.svg\" alt=\"Open In Colab\"/></a>"
      ]
    },
    {
      "cell_type": "markdown",
      "source": [
        "Assessment: Try/Except"
      ],
      "metadata": {
        "id": "ebVeCDnMyEz9"
      }
    },
    {
      "cell_type": "markdown",
      "source": [
        "The code below takes the list of country, country, and searches to see if it is in the dictionary gold which shows some countries who won gold during the Olympics. However, this code currently does not work. Correctly add try/except clause in the code so that it will correctly populate the list, country_gold, with either the number of golds won or the string “Did not get gold”."
      ],
      "metadata": {
        "id": "2uDGtTUKxhzd"
      }
    },
    {
      "cell_type": "code",
      "execution_count": 1,
      "metadata": {
        "id": "ZuCjY-9KxfP7"
      },
      "outputs": [],
      "source": [
        "\n",
        "gold = {\"US\":46, \"Fiji\":1, \"Great Britain\":27, \"Cuba\":5, \"Thailand\":2, \"China\":26, \"France\":10}\n",
        "country = [\"Fiji\", \"Chile\", \"Mexico\", \"France\", \"Norway\", \"US\"]\n",
        "country_gold = []\n",
        "\n",
        "for x in country:\n",
        "    try:\n",
        "        country_gold.append(gold[x])\n",
        "    except:\n",
        "        country_gold.append(\"Did not get gold\")\n",
        "\n"
      ]
    },
    {
      "cell_type": "markdown",
      "source": [
        "Provided is a buggy for loop that tries to accumulate some values out of some dictionaries. Insert a try/except so that the code passes."
      ],
      "metadata": {
        "id": "uOU81OATxmsU"
      }
    },
    {
      "cell_type": "code",
      "source": [
        "\n",
        "di = [{\"Puppies\": 17, 'Kittens': 9, \"Birds\": 23, 'Fish': 90, \"Hamsters\": 49}, {\"Puppies\": 23, \"Birds\": 29, \"Fish\": 20, \"Mice\": 20, \"Snakes\": 7}, {\"Fish\": 203, \"Hamsters\": 93, \"Snakes\": 25, \"Kittens\": 89}, {\"Birds\": 20, \"Puppies\": 90, \"Snakes\": 21, \"Fish\": 10, \"Kittens\": 67}]\n",
        "total = 0\n",
        "for diction in di:\n",
        "    try:\n",
        "        total = total + diction['Puppies']\n",
        "    except:\n",
        "        pass\n",
        "print(\"Total number of puppies:\", total)\n",
        "\n",
        "\n"
      ],
      "metadata": {
        "id": "BhFDMvjXxoIL"
      },
      "execution_count": null,
      "outputs": []
    },
    {
      "cell_type": "markdown",
      "source": [
        "The list, numb, contains integers. Write code that populates the list remainder with the remainder of 36 divided by each number in numb. For example, the first element should be 0, because 36/6 has no remainder. If there is an error, have the string “Error” appear in the remainder."
      ],
      "metadata": {
        "id": "TYjb3fudxqtI"
      }
    },
    {
      "cell_type": "code",
      "source": [
        "\n",
        "numb = [6, 0, 36, 8, 2, 36, 0, 12, 60, 0, 45, 0, 3, 23]\n",
        "\n",
        "remainder = []\n",
        "\n",
        "for num in numb:\n",
        "    try:\n",
        "        remainder.append(36%num)\n",
        "    except:\n",
        "        remainder.append(\"Error\")"
      ],
      "metadata": {
        "id": "CBazx0S2xtFa"
      },
      "execution_count": null,
      "outputs": []
    },
    {
      "cell_type": "markdown",
      "source": [
        "Provided is buggy code, insert a try/except so that the code passes."
      ],
      "metadata": {
        "id": "-SyQXJ-mxwU7"
      }
    },
    {
      "cell_type": "code",
      "source": [
        "\n",
        "lst = [2,4,10,42,12,0,4,7,21,4,83,8,5,6,8,234,5,6,523,42,34,0,234,1,435,465,56,7,3,43,23]\n",
        "\n",
        "lst_three = []\n",
        "\n",
        "for num in lst:\n",
        "    try:\n",
        "        if 3 % num == 0:\n",
        "            lst_three.append(num)\n",
        "    except:\n",
        "        pass\n",
        "\n"
      ],
      "metadata": {
        "id": "daqg3gdoxye5"
      },
      "execution_count": null,
      "outputs": []
    },
    {
      "cell_type": "markdown",
      "source": [
        "Write code so that the buggy code provided works using a try/except. When the codes does not work in the try, have it append to the list attempt the string “Error”."
      ],
      "metadata": {
        "id": "3LEL8oBUxzuW"
      }
    },
    {
      "cell_type": "code",
      "source": [
        "\n",
        "full_lst = [\"ab\", 'cde', 'fgh', 'i', 'jkml', 'nop', 'qr', 's', 'tv', 'wxy', 'z']\n",
        "\n",
        "attempt = []\n",
        "\n",
        "for elem in full_lst:\n",
        "    try:\n",
        "        attempt.append(elem[1])\n",
        "    except:\n",
        "        attempt.append(\"Error\")\n",
        "\n"
      ],
      "metadata": {
        "id": "MjLkHsrfx1kT"
      },
      "execution_count": null,
      "outputs": []
    },
    {
      "cell_type": "markdown",
      "source": [
        "The following code tries to append the third element of each list in conts to the new list third_countries. Currently, the code does not work. Add a try/except clause so the code runs without errors, and the string ‘Continent does not have 3 countries’ is appended to countries instead of producing an error."
      ],
      "metadata": {
        "id": "470z6Xahx3Dk"
      }
    },
    {
      "cell_type": "code",
      "source": [
        "\n",
        "conts = [['Spain', 'France', 'Greece', 'Portugal', 'Romania', 'Germany'], ['USA', 'Mexico', 'Canada'], ['Japan', 'China', 'Korea', 'Vietnam', 'Cambodia'], ['Argentina', 'Chile', 'Brazil', 'Ecuador', 'Uruguay', 'Venezuela'], ['Australia'], ['Zimbabwe', 'Morocco', 'Kenya', 'Ethiopa', 'South Africa'], ['Antarctica']]\n",
        "\n",
        "third_countries = []\n",
        "\n",
        "for c in conts:\n",
        "    try:\n",
        "        third_countries.append(c[2])\n",
        "    except:\n",
        "        third_countries.append(\"Continent does not have 3 countries\")\n",
        "\n"
      ],
      "metadata": {
        "id": "8IoU1kRox4U-"
      },
      "execution_count": null,
      "outputs": []
    },
    {
      "cell_type": "markdown",
      "source": [
        "The buggy code below prints out the value of the sport in the list sport. Use try/except so that the code will run properly. If the sport is not in the dictionary, ppl_play, add it in with the value of 1."
      ],
      "metadata": {
        "id": "_7qFOvobx6gp"
      }
    },
    {
      "cell_type": "code",
      "source": [
        "\n",
        "sport = [\"hockey\", \"basketball\", \"soccer\", \"tennis\", \"football\", \"baseball\"]\n",
        "\n",
        "ppl_play = {\"hockey\":4, \"soccer\": 10, \"football\": 15, \"tennis\": 8}\n",
        "\n",
        "for x in sport:\n",
        "     try:\n",
        "         print(ppl_play[x])\n",
        "     except:\n",
        "        ppl_play[x] = 1\n",
        "\n"
      ],
      "metadata": {
        "id": "S9Hs3wfkx8KU"
      },
      "execution_count": null,
      "outputs": []
    },
    {
      "cell_type": "markdown",
      "source": [
        "Provided is a buggy for loop that tries to accumulate some values out of some dictionaries. Insert a try/except so that the code passes. If the key is not there, initialize it in the dictionary and set the value to zero."
      ],
      "metadata": {
        "id": "EDbXM68fx9XK"
      }
    },
    {
      "cell_type": "code",
      "source": [
        "\n",
        "di = [{\"Puppies\": 17, 'Kittens': 9, \"Birds\": 23, 'Fish': 90, \"Hamsters\": 49}, {\"Puppies\": 23, \"Birds\": 29, \"Fish\": 20, \"Mice\": 20, \"Snakes\": 7}, {\"Fish\": 203, \"Hamsters\": 93, \"Snakes\": 25, \"Kittens\": 89}, {\"Birds\": 20, \"Puppies\": 90, \"Snakes\": 21, \"Fish\": 10, \"Kittens\": 67}]\n",
        "total = 0\n",
        "c=0\n",
        "for diction in di:\n",
        "    try:\n",
        "        total = total + diction['Puppies']\n",
        "        \n",
        "    except:\n",
        "        diction['Puppies'] = 0\n",
        "print(di)\n",
        "print(\"Total number of puppies:\", total)\n",
        "\n",
        "\n"
      ],
      "metadata": {
        "id": "FK5FD6i3x_Gj"
      },
      "execution_count": null,
      "outputs": []
    }
  ]
}