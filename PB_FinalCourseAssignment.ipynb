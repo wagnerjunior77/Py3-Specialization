{
  "nbformat": 4,
  "nbformat_minor": 0,
  "metadata": {
    "colab": {
      "provenance": [],
      "authorship_tag": "ABX9TyOs5IPH9dv/SIPBRih3srK9",
      "include_colab_link": true
    },
    "kernelspec": {
      "name": "python3",
      "display_name": "Python 3"
    },
    "language_info": {
      "name": "python"
    }
  },
  "cells": [
    {
      "cell_type": "markdown",
      "metadata": {
        "id": "view-in-github",
        "colab_type": "text"
      },
      "source": [
        "<a href=\"https://colab.research.google.com/github/wagnerjunior77/Py3-Specialization/blob/PythonBasics/PB_FinalCourseAssignment.ipynb\" target=\"_parent\"><img src=\"https://colab.research.google.com/assets/colab-badge.svg\" alt=\"Open In Colab\"/></a>"
      ]
    },
    {
      "cell_type": "markdown",
      "source": [
        "----- Final Course Assignment -----"
      ],
      "metadata": {
        "id": "R0WhO9zyAAcf"
      }
    },
    {
      "cell_type": "markdown",
      "source": [
        "Below are a set of scores that students have received in the past semester. Write code to determine how many are 90 or above and assign that result to the value a_scores."
      ],
      "metadata": {
        "id": "2RG0xvxsACR_"
      }
    },
    {
      "cell_type": "code",
      "execution_count": null,
      "metadata": {
        "id": "6sRjVxvY_8rj"
      },
      "outputs": [],
      "source": [
        "scores = \"67 80 90 78 93 20 79 89 96 97 92 88 79 68 58 90 98 100 79 74 83 88 80 86 85 70 90 100\"\n",
        "\n",
        "str_lst_scores = scores.split()\n",
        "int_lst_scores = []\n",
        "\n",
        "for numbers in str_lst_scores:\n",
        "    \n",
        "    int_lst_scores.append(int(numbers))\n",
        "\n",
        "lst_scores = []\n",
        "\n",
        "a_scores = 0\n",
        "for numbers in int_lst_scores:\n",
        "    if numbers >= 90:\n",
        "        a_scores += 1\n",
        "        lst_scores.append(numbers)\n",
        "        \n",
        "print(lst_scores)\n",
        "print(a_scores)"
      ]
    },
    {
      "cell_type": "markdown",
      "source": [
        "Write code that uses the string stored in org and creates an acronym which is assigned to the variable acro. Only the first letter of each word should be used, each letter in the acronym should be a capital letter, and there should be nothing to separate the letters of the acronym. Words that should not be included in the acronym are stored in the list stopwords. For example, if org was assigned the string “hello to world” then the resulting acronym should be “HW”."
      ],
      "metadata": {
        "id": "HdPMM7XrAESe"
      }
    },
    {
      "cell_type": "code",
      "source": [
        "stopwords = ['to', 'a', 'for', 'by', 'an', 'am', 'the', 'so', 'it', 'and', \"The\"]\n",
        "org = \"The organization for health, safety, and education\"\n",
        "\n",
        "words = org.split()\n",
        "\n",
        "acro = \"\"\n",
        "\n",
        "for letters in words:\n",
        "  if letters not in stopwords:\n",
        "    acro += letters[0].upper()\n",
        "\n",
        "print(acro)"
      ],
      "metadata": {
        "id": "7izcw1G4AFow"
      },
      "execution_count": null,
      "outputs": []
    },
    {
      "cell_type": "markdown",
      "source": [
        "Write code that uses the string stored in sent and creates an acronym which is assigned to the variable acro. The first two letters of each word should be used, each letter in the acronym should be a capital letter, and each element of the acronym should be separated by a “. ” (dot and space). Words that should not be included in the acronym are stored in the list stopwords. For example, if sent was assigned the string “height and ewok wonder” then the resulting acronym should be “HE. EW. WO”"
      ],
      "metadata": {
        "id": "qXlOhwLrAKuf"
      }
    },
    {
      "cell_type": "code",
      "source": [
        "stopwords = ['to', 'a', 'for', 'by', 'an', 'am', 'the', 'so', 'it', 'and', 'The']\n",
        "sent = \"The water earth and air are vital\"\n",
        "\n",
        "words = sent.split()\n",
        "\n",
        "acro = \"\"\n",
        "\n",
        "for letters in words:\n",
        "  if letters not in stopwords:\n",
        "    acro += letters[:2].upper() + \". \"\n",
        "\n",
        "acro = acro.rstrip()\n",
        "acro = acro[:len(acro)-1]\n",
        "print(acro)"
      ],
      "metadata": {
        "id": "9bOtcbxgALH3"
      },
      "execution_count": null,
      "outputs": []
    },
    {
      "cell_type": "markdown",
      "source": [
        "A palindrome is a phrase that, if reversed, would read the exact same. Write code that checks if p_phrase is a palindrome by reversing it and then checking if the reversed version is equal to the original. Assign the reversed version of p_phrase to the variable r_phrase so that we can check your work."
      ],
      "metadata": {
        "id": "ux0Z6WbuFwwE"
      }
    },
    {
      "cell_type": "code",
      "source": [
        "p_phrase = \"was it a car or a cat I saw\"\n",
        "\n",
        "\n",
        "r_phrase = p_phrase[::-1]\n",
        "\n",
        "print(r_phrase)"
      ],
      "metadata": {
        "colab": {
          "base_uri": "https://localhost:8080/"
        },
        "id": "6gUEbgymFxEH",
        "outputId": "de0a53c5-35e0-4432-ff22-8aecd756cf6d"
      },
      "execution_count": 37,
      "outputs": [
        {
          "output_type": "stream",
          "name": "stdout",
          "text": [
            "was I tac a ro rac a ti saw\n"
          ]
        }
      ]
    },
    {
      "cell_type": "markdown",
      "source": [
        "Provided is a list of data about a store’s inventory where each item in the list represents the name of an item, how much is in stock, and how much it costs. Print out each item in the list with the same formatting, using the .format method (not string concatenation). For example, the first print statment should read The store has 12 shoes, each for 29.99 USD."
      ],
      "metadata": {
        "id": "8EunwXmKI8Yt"
      }
    },
    {
      "cell_type": "code",
      "source": [
        "\n",
        "inventory = [\"shoes, 12, 29.99\", \"shirts, 20, 9.99\", \"sweatpants, 25, 15.00\", \"scarves, 13, 7.75\"]\n",
        "\n",
        "v_inventory = []\n",
        "\n",
        "for items in inventory:\n",
        "  v_inventory.append(items.split(','))\n",
        "\n",
        "\n",
        "\n",
        "for items in v_inventory:\n",
        "  print('The store has {} {}, each for {:.2f} USD.'.format(int(items[1]), items[0], float(items[2])))\n",
        "  "
      ],
      "metadata": {
        "colab": {
          "base_uri": "https://localhost:8080/"
        },
        "id": "DbJzOplQI8nI",
        "outputId": "d94a070d-67e8-41d1-d407-dec2cea0ac7d"
      },
      "execution_count": 46,
      "outputs": [
        {
          "output_type": "stream",
          "name": "stdout",
          "text": [
            "The store has 12 shoes, each for 29.99 USD.\n",
            "The store has 20 shirts, each for 9.99 USD.\n",
            "The store has 25 sweatpants, each for 15.00 USD.\n",
            "The store has 13 scarves, each for 7.75 USD.\n"
          ]
        }
      ]
    }
  ]
}