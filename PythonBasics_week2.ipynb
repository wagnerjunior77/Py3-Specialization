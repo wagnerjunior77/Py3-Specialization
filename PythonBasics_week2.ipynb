{
  "nbformat": 4,
  "nbformat_minor": 0,
  "metadata": {
    "colab": {
      "provenance": [],
      "authorship_tag": "ABX9TyMMl/ZDq1Ul+l7BLnxZ9V2n",
      "include_colab_link": true
    },
    "kernelspec": {
      "name": "python3",
      "display_name": "Python 3"
    },
    "language_info": {
      "name": "python"
    }
  },
  "cells": [
    {
      "cell_type": "markdown",
      "metadata": {
        "id": "view-in-github",
        "colab_type": "text"
      },
      "source": [
        "<a href=\"https://colab.research.google.com/github/wagnerjunior77/Py3-Specialization/blob/main/PythonBasics_week2.ipynb\" target=\"_parent\"><img src=\"https://colab.research.google.com/assets/colab-badge.svg\" alt=\"Open In Colab\"/></a>"
      ]
    },
    {
      "cell_type": "code",
      "execution_count": null,
      "metadata": {
        "id": "jcT4fdrJqEpt"
      },
      "outputs": [],
      "source": [
        "Some exercises."
      ]
    },
    {
      "cell_type": "markdown",
      "source": [
        "Write one for loop to print out each character of the string my_str on a separate line."
      ],
      "metadata": {
        "id": "wgU2lZvIqRSu"
      }
    },
    {
      "cell_type": "code",
      "source": [
        "my_str = \"MICHIGAN\"\n",
        "\n",
        "for characteres in my_str:\n",
        "    print(characteres)"
      ],
      "metadata": {
        "id": "S_gZ_7OCqW1d"
      },
      "execution_count": null,
      "outputs": []
    },
    {
      "cell_type": "markdown",
      "source": [
        "Write one for loop to print out each element of the list several_things. Then, write another for loop to print out the TYPE of each element of the list several_things. To complete this problem you should have written two different for loops, each of which iterates over the list several_things, but each of those 2 for loops should have a different result."
      ],
      "metadata": {
        "id": "Zcn0eIqgqYu5"
      }
    },
    {
      "cell_type": "code",
      "source": [
        "several_things = [\"hello\", 2, 4, 6.0, 7.5, 234352354, \"the end\", \"\", 99]\n",
        "\n",
        "for elements in several_things:\n",
        "    print(elements)\n",
        "\n",
        "for types in several_things:\n",
        "    print(type(types))"
      ],
      "metadata": {
        "id": "bB0FMzx0qbgI"
      },
      "execution_count": null,
      "outputs": []
    },
    {
      "cell_type": "markdown",
      "source": [
        "Write code that uses iteration to print out the length of each element of the list stored in str_list."
      ],
      "metadata": {
        "id": "xYmDnpilqdgj"
      }
    },
    {
      "cell_type": "code",
      "source": [
        "str_list = [\"hello\", \"\", \"goodbye\", \"wonderful\", \"I love Python\"]\n",
        "\n",
        "for lenght in str_list:\n",
        "    print(len(lenght))"
      ],
      "metadata": {
        "id": "V1ptipFNqiTR"
      },
      "execution_count": null,
      "outputs": []
    },
    {
      "cell_type": "markdown",
      "source": [
        "Write code to count the number of characters in original_str using the accumulation pattern and assign the answer to a variable num_chars. Do NOT use the len function to solve the problem (if you use it while you are working on this problem, comment it out afterward!)"
      ],
      "metadata": {
        "id": "gZTAOfSRqluJ"
      }
    },
    {
      "cell_type": "code",
      "source": [
        "\n",
        "original_str = \"The quick brown rhino jumped over the extremely lazy fox.\"\n",
        "\n",
        "num_chars = 0\n",
        "for characters in original_str:\n",
        "    num_chars += 1\n",
        "print(num_chars)"
      ],
      "metadata": {
        "id": "RIUZqP6Uqozc"
      },
      "execution_count": null,
      "outputs": []
    },
    {
      "cell_type": "markdown",
      "source": [
        "addition_str is a string with a list of numbers separated by the + sign. Write code that uses the accumulation pattern to take the sum of all of the numbers and assigns it to sum_val (an integer). (You should use the .split(\"+\") function to split by \"+\" and int() to cast to an integer)."
      ],
      "metadata": {
        "id": "k-TIO7-7qrJS"
      }
    },
    {
      "cell_type": "markdown",
      "source": [],
      "metadata": {
        "id": "00pDeOCqqPJ9"
      }
    },
    {
      "cell_type": "code",
      "source": [
        "\n",
        "addition_str = \"2+5+10+20\"\n",
        "\n",
        "separate_numbers = addition_str.split(\"+\")\n",
        "\n",
        "l_numbers = list()\n",
        "\n",
        "for numbers in separate_numbers:\n",
        "    l_numbers.append(int(numbers))\n",
        "\n",
        "sum_val = sum(l_numbers)\n",
        "\n",
        "print(sum_val)"
      ],
      "metadata": {
        "id": "J2m08AdFquUs"
      },
      "execution_count": null,
      "outputs": []
    },
    {
      "cell_type": "markdown",
      "source": [
        "week_temps_f is a string with a list of fahrenheit temperatures separated by the , sign. Write code that uses the accumulation pattern to compute the average (sum divided by number of items) and assigns it to avg_temp. Do not hard code your answer (i.e., make your code compute both the sum or the number of items in week_temps_f) (You should use the .split(\",\") function to split by \",\" and float() to cast to a float)."
      ],
      "metadata": {
        "id": "JP3zgr-nqyhS"
      }
    },
    {
      "cell_type": "code",
      "source": [
        "\n",
        "week_temps_f = \"75.1,77.7,83.2,82.5,81.0,79.5,85.7\"\n",
        "\n",
        "numbers = week_temps_f.split(\",\")\n",
        "\n",
        "int_numbers = list()\n",
        "\n",
        "for numbers in numbers:\n",
        "    int_numbers.append(float(numbers))\n",
        "\n",
        "avg_temp = sum(int_numbers)/len(int_numbers)\n",
        "\n",
        "print(avg_temp)"
      ],
      "metadata": {
        "id": "qsMBHVqsqzGn"
      },
      "execution_count": null,
      "outputs": []
    },
    {
      "cell_type": "markdown",
      "source": [
        "Write code to create a list of numbers from 0 to 67 and assign that list to the variable nums. Do not hard code the list."
      ],
      "metadata": {
        "id": "O-mi8zGlq2Qs"
      }
    },
    {
      "cell_type": "code",
      "source": [
        "nums = range(0,68)"
      ],
      "metadata": {
        "id": "dSK0HDxgq4mg"
      },
      "execution_count": null,
      "outputs": []
    },
    {
      "cell_type": "markdown",
      "source": [
        "Write code to create a list of word lengths for the words in original_str using the accumulation pattern and assign the answer to a variable num_words_list. (You should use the len function)."
      ],
      "metadata": {
        "id": "8ExgUiVrq6Nu"
      }
    },
    {
      "cell_type": "code",
      "source": [
        "\n",
        "original_str = \"The quick brown rhino jumped over the extremely lazy fox\"\n",
        "\n",
        "words = original_str.split()\n",
        "num_words_list = list()\n",
        "\n",
        "for lengths in words:\n",
        "    num_words_list.append(len(lengths))\n",
        "\n",
        "print(num_words_list)"
      ],
      "metadata": {
        "id": "RgF5U5ZIq85m"
      },
      "execution_count": null,
      "outputs": []
    },
    {
      "cell_type": "markdown",
      "source": [
        "Create an empty string and assign it to the variable lett. Then using range, write code such that when your code is run, lett has 7 b’s (\"bbbbbbb\")."
      ],
      "metadata": {
        "id": "zxfQvktFrAIK"
      }
    },
    {
      "cell_type": "code",
      "source": [
        "lett = \"\"\n",
        "\n",
        "for c in range(7):\n",
        "    lett += \"b\"\n",
        "\n",
        "print(lett)"
      ],
      "metadata": {
        "id": "yeXf1XxIrB3l"
      },
      "execution_count": null,
      "outputs": []
    },
    {
      "cell_type": "markdown",
      "source": [
        "Write a program that uses the turtle module and a for loop to draw something. It doesn’t have to be complicated, but draw something different than we have done in the past. (Hint: if you are drawing something complicated, it could get tedious to watch it draw over and over. Try setting .speed(10) for the turtle to draw fast, or .speed(0) for it to draw super fast with no animation.)"
      ],
      "metadata": {
        "id": "mcmd0yB6rHpD"
      }
    },
    {
      "cell_type": "code",
      "source": [
        "# Maybe you'll need to install the turtle module\n",
        "\n",
        "import turtle\n",
        "\n",
        "wn = turtle.Screen()\n",
        "wn.bgcolor(\"black\")\n",
        "alex = turtle.Turtle()\n",
        "alex.color(\"hotpink\")\n",
        "alex.shape(\"turtle\")\n",
        "\n",
        "\n",
        "\n",
        "\n",
        "\n",
        "def Square(size):\n",
        "   square_size = 0\n",
        "   square_size = size\n",
        "   for c in range(4):\n",
        "    alex.stamp()\n",
        "    alex.forward(square_size)\n",
        "    alex.left(90)\n",
        "   \n",
        "\n",
        "Square(200)\n",
        "\n",
        "\n",
        "def Triangle(size):\n",
        "    triangle_size = 0\n",
        "    triangle_size = size\n",
        "    \n",
        "\n",
        "    for c in range(3):\n",
        "       alex.stamp()\n",
        "       alex.forward(triangle_size)\n",
        "       alex.left(120) \n",
        "    \n",
        "\n",
        "Triangle(100)\n",
        "\n",
        "wn.exitonclick()"
      ],
      "metadata": {
        "id": "lzU7mHNjrIMD"
      },
      "execution_count": null,
      "outputs": []
    }
  ]
}