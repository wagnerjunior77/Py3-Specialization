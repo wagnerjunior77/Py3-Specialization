{
  "nbformat": 4,
  "nbformat_minor": 0,
  "metadata": {
    "colab": {
      "provenance": [],
      "authorship_tag": "ABX9TyO+jGdmvl8nmQT5ZmJMOIRj",
      "include_colab_link": true
    },
    "kernelspec": {
      "name": "python3",
      "display_name": "Python 3"
    },
    "language_info": {
      "name": "python"
    }
  },
  "cells": [
    {
      "cell_type": "markdown",
      "metadata": {
        "id": "view-in-github",
        "colab_type": "text"
      },
      "source": [
        "<a href=\"https://colab.research.google.com/github/wagnerjunior77/Py3-Specialization/blob/Course2/PFFD_week1.ipynb\" target=\"_parent\"><img src=\"https://colab.research.google.com/assets/colab-badge.svg\" alt=\"Open In Colab\"/></a>"
      ]
    },
    {
      "cell_type": "markdown",
      "source": [
        "Assignments of week 1"
      ],
      "metadata": {
        "id": "F0_iR8edAgrD"
      }
    },
    {
      "cell_type": "markdown",
      "source": [
        "The textfile, travel_plans.txt, contains the summer travel plans for someone with some commentary. Find the total number of characters in the file and save to the variable num."
      ],
      "metadata": {
        "id": "IGJy9uBNAnmp"
      }
    },
    {
      "cell_type": "code",
      "execution_count": null,
      "metadata": {
        "id": "ovivnIjRAcUa"
      },
      "outputs": [],
      "source": [
        "tfile = open(\"travel_plans.txt\", \"r\")\n",
        "\n",
        "r_file = tfile.read()\n",
        "\n",
        "num = 0\n",
        "\n",
        "for characteres in r_file:\n",
        "    num += 1\n",
        " \n",
        "print(num)"
      ]
    },
    {
      "cell_type": "markdown",
      "source": [
        "We have provided a file called emotion_words.txt that contains lines of words that describe emotions. Find the total number of words in the file and assign this value to the variable num_words."
      ],
      "metadata": {
        "id": "OjDyTmV1ApiD"
      }
    },
    {
      "cell_type": "code",
      "source": [
        "tfile = open(\"emotion_words.txt\", \"r\")\n",
        "\n",
        "r_file = tfile.read()\n",
        "\n",
        "list_words = r_file.split()\n",
        "\n",
        "num_words = len(list_words)\n",
        "\n",
        "print(list_words)\n",
        "print(f\"the number of words is {num_words}\")"
      ],
      "metadata": {
        "id": "BP8VLwtFAs3C"
      },
      "execution_count": null,
      "outputs": []
    },
    {
      "cell_type": "markdown",
      "source": [
        "Assign to the variable num_lines the number of lines in the file school_prompt.txt."
      ],
      "metadata": {
        "id": "9VzNkkozAu8w"
      }
    },
    {
      "cell_type": "code",
      "source": [
        "tfile = open(\"school_prompt.txt\", \"r\")\n",
        "\n",
        "r_file = tfile.readlines()\n",
        "\n",
        "num_lines = len(r_file)\n",
        "\n",
        "print(f\"the number of lines is {num_lines}\")"
      ],
      "metadata": {
        "id": "El3p_RMMAxVA"
      },
      "execution_count": null,
      "outputs": []
    },
    {
      "cell_type": "markdown",
      "source": [
        "Assign the first 30 characters of school_prompt.txt as a string to the variable beginning_chars."
      ],
      "metadata": {
        "id": "lB40QrKaAy-g"
      }
    },
    {
      "cell_type": "code",
      "source": [
        "tfile = open(\"school_prompt.txt\", \"r\")\n",
        "\n",
        "beginning_chars = tfile.read()[:30]\n",
        "\n",
        "print(beginning_chars)"
      ],
      "metadata": {
        "id": "wnf5JtWDA1Jr"
      },
      "execution_count": null,
      "outputs": []
    },
    {
      "cell_type": "markdown",
      "source": [
        "Challenge: Using the file school_prompt.txt, assign the third word of every line to a list called three."
      ],
      "metadata": {
        "id": "bihqB6wlA26c"
      }
    },
    {
      "cell_type": "code",
      "source": [
        "tfile = open(\"school_prompt.txt\", \"r\")\n",
        "read_file = tfile.readlines()\n",
        "\n",
        "l_words = []\n",
        "three = []\n",
        "\n",
        "for lines in read_file:\n",
        "    l_words.append(lines.split())\n",
        "\n",
        "for words in l_words:\n",
        "    three.append(words[2])\n",
        "\n",
        "print(three)"
      ],
      "metadata": {
        "id": "2w_MuDlCA42z"
      },
      "execution_count": null,
      "outputs": []
    },
    {
      "cell_type": "markdown",
      "source": [
        "Challenge: Create a list called emotions that contains the first word of every line in emotion_words.txt."
      ],
      "metadata": {
        "id": "XmRK0oHFA7Nf"
      }
    },
    {
      "cell_type": "code",
      "source": [
        "tfile = open(\"emotion_words.txt\", \"r\")\n",
        "read_file = tfile.readlines()\n",
        "\n",
        "l_words = []\n",
        "emotions = []\n",
        "\n",
        "for lines in read_file:\n",
        "    l_words.append(lines.split())\n",
        "\n",
        "for words in l_words:\n",
        "    emotions.append(words[0])\n",
        "\n",
        "print(emotions)\n"
      ],
      "metadata": {
        "id": "cq1ZW_30A9j-"
      },
      "execution_count": null,
      "outputs": []
    },
    {
      "cell_type": "markdown",
      "source": [
        "Assign the first 33 characters from the textfile, travel_plans.txt to the variable first_chars."
      ],
      "metadata": {
        "id": "6JMrJM-KA_jq"
      }
    },
    {
      "cell_type": "code",
      "source": [
        "tfile = open(\"travel_plans.txt\", \"r\")\n",
        "first_chars = tfile.read()[:33]\n",
        "\n",
        "print(first_chars)"
      ],
      "metadata": {
        "id": "6Iy_9of7BBpZ"
      },
      "execution_count": null,
      "outputs": []
    },
    {
      "cell_type": "markdown",
      "source": [
        "Challenge: Using the file school_prompt.txt, if the character ‘p’ is in a word, then add the word to a list called p_words."
      ],
      "metadata": {
        "id": "ePIHOCFiBC9_"
      }
    },
    {
      "cell_type": "code",
      "source": [
        "tfile = open(\"school_prompt.txt\", \"r\")\n",
        "read_file = tfile.read()\n",
        "\n",
        "words_file = read_file.split()\n",
        "\n",
        "p_words = []\n",
        "\n",
        "for p in words_file:\n",
        "    if 'p' in p:\n",
        "        p_words.append(p)\n",
        "        \n",
        "print(p_words)"
      ],
      "metadata": {
        "id": "ofikPdDbBEoP"
      },
      "execution_count": null,
      "outputs": []
    }
  ]
}